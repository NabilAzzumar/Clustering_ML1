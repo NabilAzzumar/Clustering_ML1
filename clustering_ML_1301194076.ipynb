{
  "nbformat": 4,
  "nbformat_minor": 0,
  "metadata": {
    "colab": {
      "name": "clustering_ML.ipynb",
      "provenance": [],
      "collapsed_sections": []
    },
    "kernelspec": {
      "name": "python3",
      "display_name": "Python 3"
    },
    "language_info": {
      "name": "python"
    }
  },
  "cells": [
    {
      "cell_type": "markdown",
      "metadata": {
        "id": "hnEh2v5GapSX"
      },
      "source": [
        "## **Clustering tahap 1**\n",
        "### Nabil Azzumar Labib\n",
        "### 1301194076"
      ]
    },
    {
      "cell_type": "code",
      "metadata": {
        "id": "cpOTHalqMHxu"
      },
      "source": [
        "# Library\n",
        "import pandas as pd\n",
        "import numpy as np\n",
        "import numpy.matlib\n",
        "import matplotlib.pyplot as plt\n",
        "import seaborn as sns\n",
        "from sklearn.preprocessing import MinMaxScaler"
      ],
      "execution_count": null,
      "outputs": []
    },
    {
      "cell_type": "markdown",
      "metadata": {
        "id": "m3910BRSbIMl"
      },
      "source": [
        "# **Read data & eksplorasi data**"
      ]
    },
    {
      "cell_type": "code",
      "metadata": {
        "id": "kTLxS0i4MQqY"
      },
      "source": [
        "# baca data\n",
        "dfTrain = pd.read_csv('https://raw.githubusercontent.com/NabilAzzumar/Clustering_ML1/main/kendaraan_train.csv')"
      ],
      "execution_count": null,
      "outputs": []
    },
    {
      "cell_type": "code",
      "metadata": {
        "colab": {
          "base_uri": "https://localhost:8080/",
          "height": 202
        },
        "id": "qRmio_y-MqCN",
        "outputId": "fe1029d7-2b4b-4bf5-fa2f-c910e6801560"
      },
      "source": [
        "# melihat 5 data awal pada data train\n",
        "dfTrain.head()"
      ],
      "execution_count": null,
      "outputs": [
        {
          "output_type": "execute_result",
          "data": {
            "text/html": [
              "<div>\n",
              "<style scoped>\n",
              "    .dataframe tbody tr th:only-of-type {\n",
              "        vertical-align: middle;\n",
              "    }\n",
              "\n",
              "    .dataframe tbody tr th {\n",
              "        vertical-align: top;\n",
              "    }\n",
              "\n",
              "    .dataframe thead th {\n",
              "        text-align: right;\n",
              "    }\n",
              "</style>\n",
              "<table border=\"1\" class=\"dataframe\">\n",
              "  <thead>\n",
              "    <tr style=\"text-align: right;\">\n",
              "      <th></th>\n",
              "      <th>id</th>\n",
              "      <th>Jenis_Kelamin</th>\n",
              "      <th>Umur</th>\n",
              "      <th>SIM</th>\n",
              "      <th>Kode_Daerah</th>\n",
              "      <th>Sudah_Asuransi</th>\n",
              "      <th>Umur_Kendaraan</th>\n",
              "      <th>Kendaraan_Rusak</th>\n",
              "      <th>Premi</th>\n",
              "      <th>Kanal_Penjualan</th>\n",
              "      <th>Lama_Berlangganan</th>\n",
              "      <th>Tertarik</th>\n",
              "    </tr>\n",
              "  </thead>\n",
              "  <tbody>\n",
              "    <tr>\n",
              "      <th>0</th>\n",
              "      <td>1</td>\n",
              "      <td>Wanita</td>\n",
              "      <td>30.0</td>\n",
              "      <td>1.0</td>\n",
              "      <td>33.0</td>\n",
              "      <td>1.0</td>\n",
              "      <td>&lt; 1 Tahun</td>\n",
              "      <td>Tidak</td>\n",
              "      <td>28029.0</td>\n",
              "      <td>152.0</td>\n",
              "      <td>97.0</td>\n",
              "      <td>0</td>\n",
              "    </tr>\n",
              "    <tr>\n",
              "      <th>1</th>\n",
              "      <td>2</td>\n",
              "      <td>Pria</td>\n",
              "      <td>48.0</td>\n",
              "      <td>1.0</td>\n",
              "      <td>39.0</td>\n",
              "      <td>0.0</td>\n",
              "      <td>&gt; 2 Tahun</td>\n",
              "      <td>Pernah</td>\n",
              "      <td>25800.0</td>\n",
              "      <td>29.0</td>\n",
              "      <td>158.0</td>\n",
              "      <td>0</td>\n",
              "    </tr>\n",
              "    <tr>\n",
              "      <th>2</th>\n",
              "      <td>3</td>\n",
              "      <td>NaN</td>\n",
              "      <td>21.0</td>\n",
              "      <td>1.0</td>\n",
              "      <td>46.0</td>\n",
              "      <td>1.0</td>\n",
              "      <td>&lt; 1 Tahun</td>\n",
              "      <td>Tidak</td>\n",
              "      <td>32733.0</td>\n",
              "      <td>160.0</td>\n",
              "      <td>119.0</td>\n",
              "      <td>0</td>\n",
              "    </tr>\n",
              "    <tr>\n",
              "      <th>3</th>\n",
              "      <td>4</td>\n",
              "      <td>Wanita</td>\n",
              "      <td>58.0</td>\n",
              "      <td>1.0</td>\n",
              "      <td>48.0</td>\n",
              "      <td>0.0</td>\n",
              "      <td>1-2 Tahun</td>\n",
              "      <td>Tidak</td>\n",
              "      <td>2630.0</td>\n",
              "      <td>124.0</td>\n",
              "      <td>63.0</td>\n",
              "      <td>0</td>\n",
              "    </tr>\n",
              "    <tr>\n",
              "      <th>4</th>\n",
              "      <td>5</td>\n",
              "      <td>Pria</td>\n",
              "      <td>50.0</td>\n",
              "      <td>1.0</td>\n",
              "      <td>35.0</td>\n",
              "      <td>0.0</td>\n",
              "      <td>&gt; 2 Tahun</td>\n",
              "      <td>NaN</td>\n",
              "      <td>34857.0</td>\n",
              "      <td>88.0</td>\n",
              "      <td>194.0</td>\n",
              "      <td>0</td>\n",
              "    </tr>\n",
              "  </tbody>\n",
              "</table>\n",
              "</div>"
            ],
            "text/plain": [
              "   id Jenis_Kelamin  Umur  ...  Kanal_Penjualan  Lama_Berlangganan  Tertarik\n",
              "0   1        Wanita  30.0  ...            152.0               97.0         0\n",
              "1   2          Pria  48.0  ...             29.0              158.0         0\n",
              "2   3           NaN  21.0  ...            160.0              119.0         0\n",
              "3   4        Wanita  58.0  ...            124.0               63.0         0\n",
              "4   5          Pria  50.0  ...             88.0              194.0         0\n",
              "\n",
              "[5 rows x 12 columns]"
            ]
          },
          "metadata": {},
          "execution_count": 108
        }
      ]
    },
    {
      "cell_type": "code",
      "metadata": {
        "colab": {
          "base_uri": "https://localhost:8080/"
        },
        "id": "uf6XtFrpS5Ds",
        "outputId": "6b300c47-7f00-4491-d601-8a9f5ab9a26f"
      },
      "source": [
        "# melihat keseluruhan jumlah baris dan kolom\n",
        "dfTrain.shape"
      ],
      "execution_count": null,
      "outputs": [
        {
          "output_type": "execute_result",
          "data": {
            "text/plain": [
              "(285831, 12)"
            ]
          },
          "metadata": {},
          "execution_count": 109
        }
      ]
    },
    {
      "cell_type": "code",
      "metadata": {
        "colab": {
          "base_uri": "https://localhost:8080/"
        },
        "id": "HWh7H0KsMjCu",
        "outputId": "6a22d8e0-a77a-4418-b410-d1f5bbf60e91"
      },
      "source": [
        "# melihat info pada data\n",
        "dfTrain.info()"
      ],
      "execution_count": null,
      "outputs": [
        {
          "output_type": "stream",
          "name": "stdout",
          "text": [
            "<class 'pandas.core.frame.DataFrame'>\n",
            "RangeIndex: 285831 entries, 0 to 285830\n",
            "Data columns (total 12 columns):\n",
            " #   Column             Non-Null Count   Dtype  \n",
            "---  ------             --------------   -----  \n",
            " 0   id                 285831 non-null  int64  \n",
            " 1   Jenis_Kelamin      271391 non-null  object \n",
            " 2   Umur               271617 non-null  float64\n",
            " 3   SIM                271427 non-null  float64\n",
            " 4   Kode_Daerah        271525 non-null  float64\n",
            " 5   Sudah_Asuransi     271602 non-null  float64\n",
            " 6   Umur_Kendaraan     271556 non-null  object \n",
            " 7   Kendaraan_Rusak    271643 non-null  object \n",
            " 8   Premi              271262 non-null  float64\n",
            " 9   Kanal_Penjualan    271532 non-null  float64\n",
            " 10  Lama_Berlangganan  271839 non-null  float64\n",
            " 11  Tertarik           285831 non-null  int64  \n",
            "dtypes: float64(7), int64(2), object(3)\n",
            "memory usage: 26.2+ MB\n"
          ]
        }
      ]
    },
    {
      "cell_type": "code",
      "metadata": {
        "colab": {
          "base_uri": "https://localhost:8080/",
          "height": 295
        },
        "id": "me2IcfLOO463",
        "outputId": "465c1831-c3d3-4ebe-819b-29418f159602"
      },
      "source": [
        "# melihat count, mean, std, dan lainnya pada data\n",
        "dfTrain.describe()"
      ],
      "execution_count": null,
      "outputs": [
        {
          "output_type": "execute_result",
          "data": {
            "text/html": [
              "<div>\n",
              "<style scoped>\n",
              "    .dataframe tbody tr th:only-of-type {\n",
              "        vertical-align: middle;\n",
              "    }\n",
              "\n",
              "    .dataframe tbody tr th {\n",
              "        vertical-align: top;\n",
              "    }\n",
              "\n",
              "    .dataframe thead th {\n",
              "        text-align: right;\n",
              "    }\n",
              "</style>\n",
              "<table border=\"1\" class=\"dataframe\">\n",
              "  <thead>\n",
              "    <tr style=\"text-align: right;\">\n",
              "      <th></th>\n",
              "      <th>id</th>\n",
              "      <th>Umur</th>\n",
              "      <th>SIM</th>\n",
              "      <th>Kode_Daerah</th>\n",
              "      <th>Sudah_Asuransi</th>\n",
              "      <th>Premi</th>\n",
              "      <th>Kanal_Penjualan</th>\n",
              "      <th>Lama_Berlangganan</th>\n",
              "      <th>Tertarik</th>\n",
              "    </tr>\n",
              "  </thead>\n",
              "  <tbody>\n",
              "    <tr>\n",
              "      <th>count</th>\n",
              "      <td>285831.000000</td>\n",
              "      <td>271617.000000</td>\n",
              "      <td>271427.000000</td>\n",
              "      <td>271525.000000</td>\n",
              "      <td>271602.000000</td>\n",
              "      <td>271262.000000</td>\n",
              "      <td>271532.000000</td>\n",
              "      <td>271839.000000</td>\n",
              "      <td>285831.000000</td>\n",
              "    </tr>\n",
              "    <tr>\n",
              "      <th>mean</th>\n",
              "      <td>142916.000000</td>\n",
              "      <td>38.844336</td>\n",
              "      <td>0.997848</td>\n",
              "      <td>26.405410</td>\n",
              "      <td>0.458778</td>\n",
              "      <td>30536.683472</td>\n",
              "      <td>112.021567</td>\n",
              "      <td>154.286302</td>\n",
              "      <td>0.122471</td>\n",
              "    </tr>\n",
              "    <tr>\n",
              "      <th>std</th>\n",
              "      <td>82512.446734</td>\n",
              "      <td>15.522487</td>\n",
              "      <td>0.046335</td>\n",
              "      <td>13.252714</td>\n",
              "      <td>0.498299</td>\n",
              "      <td>17155.000770</td>\n",
              "      <td>54.202457</td>\n",
              "      <td>83.694910</td>\n",
              "      <td>0.327830</td>\n",
              "    </tr>\n",
              "    <tr>\n",
              "      <th>min</th>\n",
              "      <td>1.000000</td>\n",
              "      <td>20.000000</td>\n",
              "      <td>0.000000</td>\n",
              "      <td>0.000000</td>\n",
              "      <td>0.000000</td>\n",
              "      <td>2630.000000</td>\n",
              "      <td>1.000000</td>\n",
              "      <td>10.000000</td>\n",
              "      <td>0.000000</td>\n",
              "    </tr>\n",
              "    <tr>\n",
              "      <th>25%</th>\n",
              "      <td>71458.500000</td>\n",
              "      <td>25.000000</td>\n",
              "      <td>1.000000</td>\n",
              "      <td>15.000000</td>\n",
              "      <td>0.000000</td>\n",
              "      <td>24398.000000</td>\n",
              "      <td>29.000000</td>\n",
              "      <td>82.000000</td>\n",
              "      <td>0.000000</td>\n",
              "    </tr>\n",
              "    <tr>\n",
              "      <th>50%</th>\n",
              "      <td>142916.000000</td>\n",
              "      <td>36.000000</td>\n",
              "      <td>1.000000</td>\n",
              "      <td>28.000000</td>\n",
              "      <td>0.000000</td>\n",
              "      <td>31646.000000</td>\n",
              "      <td>132.000000</td>\n",
              "      <td>154.000000</td>\n",
              "      <td>0.000000</td>\n",
              "    </tr>\n",
              "    <tr>\n",
              "      <th>75%</th>\n",
              "      <td>214373.500000</td>\n",
              "      <td>49.000000</td>\n",
              "      <td>1.000000</td>\n",
              "      <td>35.000000</td>\n",
              "      <td>1.000000</td>\n",
              "      <td>39377.750000</td>\n",
              "      <td>152.000000</td>\n",
              "      <td>227.000000</td>\n",
              "      <td>0.000000</td>\n",
              "    </tr>\n",
              "    <tr>\n",
              "      <th>max</th>\n",
              "      <td>285831.000000</td>\n",
              "      <td>85.000000</td>\n",
              "      <td>1.000000</td>\n",
              "      <td>52.000000</td>\n",
              "      <td>1.000000</td>\n",
              "      <td>540165.000000</td>\n",
              "      <td>163.000000</td>\n",
              "      <td>299.000000</td>\n",
              "      <td>1.000000</td>\n",
              "    </tr>\n",
              "  </tbody>\n",
              "</table>\n",
              "</div>"
            ],
            "text/plain": [
              "                  id           Umur  ...  Lama_Berlangganan       Tertarik\n",
              "count  285831.000000  271617.000000  ...      271839.000000  285831.000000\n",
              "mean   142916.000000      38.844336  ...         154.286302       0.122471\n",
              "std     82512.446734      15.522487  ...          83.694910       0.327830\n",
              "min         1.000000      20.000000  ...          10.000000       0.000000\n",
              "25%     71458.500000      25.000000  ...          82.000000       0.000000\n",
              "50%    142916.000000      36.000000  ...         154.000000       0.000000\n",
              "75%    214373.500000      49.000000  ...         227.000000       0.000000\n",
              "max    285831.000000      85.000000  ...         299.000000       1.000000\n",
              "\n",
              "[8 rows x 9 columns]"
            ]
          },
          "metadata": {},
          "execution_count": 111
        }
      ]
    },
    {
      "cell_type": "code",
      "metadata": {
        "colab": {
          "base_uri": "https://localhost:8080/",
          "height": 326
        },
        "id": "LsiNVl2pbf-v",
        "outputId": "2559872e-6cc0-4356-cfbb-0a8dbfcec377"
      },
      "source": [
        "# melihat korelasi antar data\n",
        "dfTrain.corr()"
      ],
      "execution_count": null,
      "outputs": [
        {
          "output_type": "execute_result",
          "data": {
            "text/html": [
              "<div>\n",
              "<style scoped>\n",
              "    .dataframe tbody tr th:only-of-type {\n",
              "        vertical-align: middle;\n",
              "    }\n",
              "\n",
              "    .dataframe tbody tr th {\n",
              "        vertical-align: top;\n",
              "    }\n",
              "\n",
              "    .dataframe thead th {\n",
              "        text-align: right;\n",
              "    }\n",
              "</style>\n",
              "<table border=\"1\" class=\"dataframe\">\n",
              "  <thead>\n",
              "    <tr style=\"text-align: right;\">\n",
              "      <th></th>\n",
              "      <th>id</th>\n",
              "      <th>Umur</th>\n",
              "      <th>SIM</th>\n",
              "      <th>Kode_Daerah</th>\n",
              "      <th>Sudah_Asuransi</th>\n",
              "      <th>Premi</th>\n",
              "      <th>Kanal_Penjualan</th>\n",
              "      <th>Lama_Berlangganan</th>\n",
              "      <th>Tertarik</th>\n",
              "    </tr>\n",
              "  </thead>\n",
              "  <tbody>\n",
              "    <tr>\n",
              "      <th>id</th>\n",
              "      <td>1.000000</td>\n",
              "      <td>0.001729</td>\n",
              "      <td>-0.002658</td>\n",
              "      <td>0.002114</td>\n",
              "      <td>-0.003043</td>\n",
              "      <td>0.002292</td>\n",
              "      <td>-0.001500</td>\n",
              "      <td>0.000913</td>\n",
              "      <td>0.000972</td>\n",
              "    </tr>\n",
              "    <tr>\n",
              "      <th>Umur</th>\n",
              "      <td>0.001729</td>\n",
              "      <td>1.000000</td>\n",
              "      <td>-0.079467</td>\n",
              "      <td>0.043603</td>\n",
              "      <td>-0.255006</td>\n",
              "      <td>0.064634</td>\n",
              "      <td>-0.577722</td>\n",
              "      <td>0.000147</td>\n",
              "      <td>0.109888</td>\n",
              "    </tr>\n",
              "    <tr>\n",
              "      <th>SIM</th>\n",
              "      <td>-0.002658</td>\n",
              "      <td>-0.079467</td>\n",
              "      <td>1.000000</td>\n",
              "      <td>-0.003359</td>\n",
              "      <td>0.016073</td>\n",
              "      <td>-0.011315</td>\n",
              "      <td>0.043426</td>\n",
              "      <td>-0.001266</td>\n",
              "      <td>0.009588</td>\n",
              "    </tr>\n",
              "    <tr>\n",
              "      <th>Kode_Daerah</th>\n",
              "      <td>0.002114</td>\n",
              "      <td>0.043603</td>\n",
              "      <td>-0.003359</td>\n",
              "      <td>1.000000</td>\n",
              "      <td>-0.024533</td>\n",
              "      <td>-0.011887</td>\n",
              "      <td>-0.043216</td>\n",
              "      <td>-0.003639</td>\n",
              "      <td>0.010186</td>\n",
              "    </tr>\n",
              "    <tr>\n",
              "      <th>Sudah_Asuransi</th>\n",
              "      <td>-0.003043</td>\n",
              "      <td>-0.255006</td>\n",
              "      <td>0.016073</td>\n",
              "      <td>-0.024533</td>\n",
              "      <td>1.000000</td>\n",
              "      <td>0.005903</td>\n",
              "      <td>0.221767</td>\n",
              "      <td>0.002757</td>\n",
              "      <td>-0.340917</td>\n",
              "    </tr>\n",
              "    <tr>\n",
              "      <th>Premi</th>\n",
              "      <td>0.002292</td>\n",
              "      <td>0.064634</td>\n",
              "      <td>-0.011315</td>\n",
              "      <td>-0.011887</td>\n",
              "      <td>0.005903</td>\n",
              "      <td>1.000000</td>\n",
              "      <td>-0.112187</td>\n",
              "      <td>-0.000750</td>\n",
              "      <td>0.023770</td>\n",
              "    </tr>\n",
              "    <tr>\n",
              "      <th>Kanal_Penjualan</th>\n",
              "      <td>-0.001500</td>\n",
              "      <td>-0.577722</td>\n",
              "      <td>0.043426</td>\n",
              "      <td>-0.043216</td>\n",
              "      <td>0.221767</td>\n",
              "      <td>-0.112187</td>\n",
              "      <td>1.000000</td>\n",
              "      <td>0.000327</td>\n",
              "      <td>-0.140931</td>\n",
              "    </tr>\n",
              "    <tr>\n",
              "      <th>Lama_Berlangganan</th>\n",
              "      <td>0.000913</td>\n",
              "      <td>0.000147</td>\n",
              "      <td>-0.001266</td>\n",
              "      <td>-0.003639</td>\n",
              "      <td>0.002757</td>\n",
              "      <td>-0.000750</td>\n",
              "      <td>0.000327</td>\n",
              "      <td>1.000000</td>\n",
              "      <td>-0.002225</td>\n",
              "    </tr>\n",
              "    <tr>\n",
              "      <th>Tertarik</th>\n",
              "      <td>0.000972</td>\n",
              "      <td>0.109888</td>\n",
              "      <td>0.009588</td>\n",
              "      <td>0.010186</td>\n",
              "      <td>-0.340917</td>\n",
              "      <td>0.023770</td>\n",
              "      <td>-0.140931</td>\n",
              "      <td>-0.002225</td>\n",
              "      <td>1.000000</td>\n",
              "    </tr>\n",
              "  </tbody>\n",
              "</table>\n",
              "</div>"
            ],
            "text/plain": [
              "                         id      Umur  ...  Lama_Berlangganan  Tertarik\n",
              "id                 1.000000  0.001729  ...           0.000913  0.000972\n",
              "Umur               0.001729  1.000000  ...           0.000147  0.109888\n",
              "SIM               -0.002658 -0.079467  ...          -0.001266  0.009588\n",
              "Kode_Daerah        0.002114  0.043603  ...          -0.003639  0.010186\n",
              "Sudah_Asuransi    -0.003043 -0.255006  ...           0.002757 -0.340917\n",
              "Premi              0.002292  0.064634  ...          -0.000750  0.023770\n",
              "Kanal_Penjualan   -0.001500 -0.577722  ...           0.000327 -0.140931\n",
              "Lama_Berlangganan  0.000913  0.000147  ...           1.000000 -0.002225\n",
              "Tertarik           0.000972  0.109888  ...          -0.002225  1.000000\n",
              "\n",
              "[9 rows x 9 columns]"
            ]
          },
          "metadata": {},
          "execution_count": 112
        }
      ]
    },
    {
      "cell_type": "markdown",
      "metadata": {
        "id": "ToKwfcX3bni9"
      },
      "source": [
        "# **Preprocessing**"
      ]
    },
    {
      "cell_type": "code",
      "metadata": {
        "colab": {
          "base_uri": "https://localhost:8080/"
        },
        "id": "6MaDxvGPTObb",
        "outputId": "ec2446ab-22f1-4ed3-c42d-4cc78a5193ca"
      },
      "source": [
        "# menghitung dan melihat jumlah baris yang valuenya null pada setiap kolom\n",
        "dfTrain.isnull().sum()"
      ],
      "execution_count": null,
      "outputs": [
        {
          "output_type": "execute_result",
          "data": {
            "text/plain": [
              "id                       0\n",
              "Jenis_Kelamin        14440\n",
              "Umur                 14214\n",
              "SIM                  14404\n",
              "Kode_Daerah          14306\n",
              "Sudah_Asuransi       14229\n",
              "Umur_Kendaraan       14275\n",
              "Kendaraan_Rusak      14188\n",
              "Premi                14569\n",
              "Kanal_Penjualan      14299\n",
              "Lama_Berlangganan    13992\n",
              "Tertarik                 0\n",
              "dtype: int64"
            ]
          },
          "metadata": {},
          "execution_count": 113
        }
      ]
    },
    {
      "cell_type": "code",
      "metadata": {
        "colab": {
          "base_uri": "https://localhost:8080/"
        },
        "id": "HyoqXxHgTRqc",
        "outputId": "cd974581-7eed-426f-c508-18af82152c19"
      },
      "source": [
        "# melakukan drop pada data/value yang bernilai null\n",
        "dfTrain.dropna(inplace = True, axis = 0)\n",
        "dfTrain.isnull().sum()"
      ],
      "execution_count": null,
      "outputs": [
        {
          "output_type": "execute_result",
          "data": {
            "text/plain": [
              "id                   0\n",
              "Jenis_Kelamin        0\n",
              "Umur                 0\n",
              "SIM                  0\n",
              "Kode_Daerah          0\n",
              "Sudah_Asuransi       0\n",
              "Umur_Kendaraan       0\n",
              "Kendaraan_Rusak      0\n",
              "Premi                0\n",
              "Kanal_Penjualan      0\n",
              "Lama_Berlangganan    0\n",
              "Tertarik             0\n",
              "dtype: int64"
            ]
          },
          "metadata": {},
          "execution_count": 114
        }
      ]
    },
    {
      "cell_type": "code",
      "metadata": {
        "id": "VSecNTtnUfOM"
      },
      "source": [
        "# melakukan drop pada kategori \" id, Tertarik\"\n",
        "dfTrain.drop('id',axis=1,inplace=True)\n",
        "dfTrain.drop('Tertarik',axis=1,inplace=True)"
      ],
      "execution_count": null,
      "outputs": []
    },
    {
      "cell_type": "code",
      "metadata": {
        "colab": {
          "base_uri": "https://localhost:8080/",
          "height": 202
        },
        "id": "plqglY--UpT7",
        "outputId": "78ad225f-2fc4-451c-9356-dc5b85902015"
      },
      "source": [
        "# melihat tampilan data setelah id dan Tertarik di drop\n",
        "dfTrain.head()"
      ],
      "execution_count": null,
      "outputs": [
        {
          "output_type": "execute_result",
          "data": {
            "text/html": [
              "<div>\n",
              "<style scoped>\n",
              "    .dataframe tbody tr th:only-of-type {\n",
              "        vertical-align: middle;\n",
              "    }\n",
              "\n",
              "    .dataframe tbody tr th {\n",
              "        vertical-align: top;\n",
              "    }\n",
              "\n",
              "    .dataframe thead th {\n",
              "        text-align: right;\n",
              "    }\n",
              "</style>\n",
              "<table border=\"1\" class=\"dataframe\">\n",
              "  <thead>\n",
              "    <tr style=\"text-align: right;\">\n",
              "      <th></th>\n",
              "      <th>Jenis_Kelamin</th>\n",
              "      <th>Umur</th>\n",
              "      <th>SIM</th>\n",
              "      <th>Kode_Daerah</th>\n",
              "      <th>Sudah_Asuransi</th>\n",
              "      <th>Umur_Kendaraan</th>\n",
              "      <th>Kendaraan_Rusak</th>\n",
              "      <th>Premi</th>\n",
              "      <th>Kanal_Penjualan</th>\n",
              "      <th>Lama_Berlangganan</th>\n",
              "    </tr>\n",
              "  </thead>\n",
              "  <tbody>\n",
              "    <tr>\n",
              "      <th>0</th>\n",
              "      <td>Wanita</td>\n",
              "      <td>30.0</td>\n",
              "      <td>1.0</td>\n",
              "      <td>33.0</td>\n",
              "      <td>1.0</td>\n",
              "      <td>&lt; 1 Tahun</td>\n",
              "      <td>Tidak</td>\n",
              "      <td>28029.0</td>\n",
              "      <td>152.0</td>\n",
              "      <td>97.0</td>\n",
              "    </tr>\n",
              "    <tr>\n",
              "      <th>1</th>\n",
              "      <td>Pria</td>\n",
              "      <td>48.0</td>\n",
              "      <td>1.0</td>\n",
              "      <td>39.0</td>\n",
              "      <td>0.0</td>\n",
              "      <td>&gt; 2 Tahun</td>\n",
              "      <td>Pernah</td>\n",
              "      <td>25800.0</td>\n",
              "      <td>29.0</td>\n",
              "      <td>158.0</td>\n",
              "    </tr>\n",
              "    <tr>\n",
              "      <th>3</th>\n",
              "      <td>Wanita</td>\n",
              "      <td>58.0</td>\n",
              "      <td>1.0</td>\n",
              "      <td>48.0</td>\n",
              "      <td>0.0</td>\n",
              "      <td>1-2 Tahun</td>\n",
              "      <td>Tidak</td>\n",
              "      <td>2630.0</td>\n",
              "      <td>124.0</td>\n",
              "      <td>63.0</td>\n",
              "    </tr>\n",
              "    <tr>\n",
              "      <th>5</th>\n",
              "      <td>Pria</td>\n",
              "      <td>21.0</td>\n",
              "      <td>1.0</td>\n",
              "      <td>35.0</td>\n",
              "      <td>1.0</td>\n",
              "      <td>&lt; 1 Tahun</td>\n",
              "      <td>Tidak</td>\n",
              "      <td>22735.0</td>\n",
              "      <td>152.0</td>\n",
              "      <td>171.0</td>\n",
              "    </tr>\n",
              "    <tr>\n",
              "      <th>8</th>\n",
              "      <td>Wanita</td>\n",
              "      <td>20.0</td>\n",
              "      <td>1.0</td>\n",
              "      <td>8.0</td>\n",
              "      <td>1.0</td>\n",
              "      <td>&lt; 1 Tahun</td>\n",
              "      <td>Tidak</td>\n",
              "      <td>30786.0</td>\n",
              "      <td>160.0</td>\n",
              "      <td>31.0</td>\n",
              "    </tr>\n",
              "  </tbody>\n",
              "</table>\n",
              "</div>"
            ],
            "text/plain": [
              "  Jenis_Kelamin  Umur  SIM  ...    Premi  Kanal_Penjualan Lama_Berlangganan\n",
              "0        Wanita  30.0  1.0  ...  28029.0            152.0              97.0\n",
              "1          Pria  48.0  1.0  ...  25800.0             29.0             158.0\n",
              "3        Wanita  58.0  1.0  ...   2630.0            124.0              63.0\n",
              "5          Pria  21.0  1.0  ...  22735.0            152.0             171.0\n",
              "8        Wanita  20.0  1.0  ...  30786.0            160.0              31.0\n",
              "\n",
              "[5 rows x 10 columns]"
            ]
          },
          "metadata": {},
          "execution_count": 116
        }
      ]
    },
    {
      "cell_type": "code",
      "metadata": {
        "colab": {
          "base_uri": "https://localhost:8080/",
          "height": 418
        },
        "id": "8g6QeNA6UvzT",
        "outputId": "3ed72300-8ecf-4b8e-ea67-c0a90a834db2"
      },
      "source": [
        "# mengubah data kategori menjadi numerical\n",
        "\n",
        "# mengubah format Jenis_Kelamin dari [Pria, Wanita] menjadi [1 = Pria, 0 = Wanita]\n",
        "dfTrain[\"Jenis_Kelamin\"] = dfTrain[\"Jenis_Kelamin\"].replace([\"Pria\", \"Wanita\"], [1,0])\n",
        "\n",
        "# mengubah format Umur_Kendaraan dari [< 1 Tahun\", \"> 2 Tahun\", \"1-2 Tahun] menjadi [1, 2, 1.5]\n",
        "dfTrain[\"Umur_Kendaraan\"] = dfTrain[\"Umur_Kendaraan\"].replace([\"< 1 Tahun\", \"> 2 Tahun\", \"1-2 Tahun\"], [1,2,1.5])\n",
        "\n",
        "# mengubah format Kendaraan_Rusak dari [Pernah, Tidak] menjadi [1 = pernah, 0 = tidak]\n",
        "dfTrain[\"Kendaraan_Rusak\"] = dfTrain[\"Kendaraan_Rusak\"].replace([\"Pernah\", \"Tidak\"], [1,0])\n",
        "\n",
        "dfTrain.head(12)"
      ],
      "execution_count": null,
      "outputs": [
        {
          "output_type": "execute_result",
          "data": {
            "text/html": [
              "<div>\n",
              "<style scoped>\n",
              "    .dataframe tbody tr th:only-of-type {\n",
              "        vertical-align: middle;\n",
              "    }\n",
              "\n",
              "    .dataframe tbody tr th {\n",
              "        vertical-align: top;\n",
              "    }\n",
              "\n",
              "    .dataframe thead th {\n",
              "        text-align: right;\n",
              "    }\n",
              "</style>\n",
              "<table border=\"1\" class=\"dataframe\">\n",
              "  <thead>\n",
              "    <tr style=\"text-align: right;\">\n",
              "      <th></th>\n",
              "      <th>Jenis_Kelamin</th>\n",
              "      <th>Umur</th>\n",
              "      <th>SIM</th>\n",
              "      <th>Kode_Daerah</th>\n",
              "      <th>Sudah_Asuransi</th>\n",
              "      <th>Umur_Kendaraan</th>\n",
              "      <th>Kendaraan_Rusak</th>\n",
              "      <th>Premi</th>\n",
              "      <th>Kanal_Penjualan</th>\n",
              "      <th>Lama_Berlangganan</th>\n",
              "    </tr>\n",
              "  </thead>\n",
              "  <tbody>\n",
              "    <tr>\n",
              "      <th>0</th>\n",
              "      <td>0</td>\n",
              "      <td>30.0</td>\n",
              "      <td>1.0</td>\n",
              "      <td>33.0</td>\n",
              "      <td>1.0</td>\n",
              "      <td>1.0</td>\n",
              "      <td>0</td>\n",
              "      <td>28029.0</td>\n",
              "      <td>152.0</td>\n",
              "      <td>97.0</td>\n",
              "    </tr>\n",
              "    <tr>\n",
              "      <th>1</th>\n",
              "      <td>1</td>\n",
              "      <td>48.0</td>\n",
              "      <td>1.0</td>\n",
              "      <td>39.0</td>\n",
              "      <td>0.0</td>\n",
              "      <td>2.0</td>\n",
              "      <td>1</td>\n",
              "      <td>25800.0</td>\n",
              "      <td>29.0</td>\n",
              "      <td>158.0</td>\n",
              "    </tr>\n",
              "    <tr>\n",
              "      <th>3</th>\n",
              "      <td>0</td>\n",
              "      <td>58.0</td>\n",
              "      <td>1.0</td>\n",
              "      <td>48.0</td>\n",
              "      <td>0.0</td>\n",
              "      <td>1.5</td>\n",
              "      <td>0</td>\n",
              "      <td>2630.0</td>\n",
              "      <td>124.0</td>\n",
              "      <td>63.0</td>\n",
              "    </tr>\n",
              "    <tr>\n",
              "      <th>5</th>\n",
              "      <td>1</td>\n",
              "      <td>21.0</td>\n",
              "      <td>1.0</td>\n",
              "      <td>35.0</td>\n",
              "      <td>1.0</td>\n",
              "      <td>1.0</td>\n",
              "      <td>0</td>\n",
              "      <td>22735.0</td>\n",
              "      <td>152.0</td>\n",
              "      <td>171.0</td>\n",
              "    </tr>\n",
              "    <tr>\n",
              "      <th>8</th>\n",
              "      <td>0</td>\n",
              "      <td>20.0</td>\n",
              "      <td>1.0</td>\n",
              "      <td>8.0</td>\n",
              "      <td>1.0</td>\n",
              "      <td>1.0</td>\n",
              "      <td>0</td>\n",
              "      <td>30786.0</td>\n",
              "      <td>160.0</td>\n",
              "      <td>31.0</td>\n",
              "    </tr>\n",
              "    <tr>\n",
              "      <th>10</th>\n",
              "      <td>1</td>\n",
              "      <td>25.0</td>\n",
              "      <td>1.0</td>\n",
              "      <td>14.0</td>\n",
              "      <td>1.0</td>\n",
              "      <td>1.0</td>\n",
              "      <td>0</td>\n",
              "      <td>34212.0</td>\n",
              "      <td>152.0</td>\n",
              "      <td>282.0</td>\n",
              "    </tr>\n",
              "    <tr>\n",
              "      <th>14</th>\n",
              "      <td>1</td>\n",
              "      <td>66.0</td>\n",
              "      <td>1.0</td>\n",
              "      <td>24.0</td>\n",
              "      <td>1.0</td>\n",
              "      <td>1.5</td>\n",
              "      <td>0</td>\n",
              "      <td>38616.0</td>\n",
              "      <td>145.0</td>\n",
              "      <td>281.0</td>\n",
              "    </tr>\n",
              "    <tr>\n",
              "      <th>15</th>\n",
              "      <td>1</td>\n",
              "      <td>31.0</td>\n",
              "      <td>1.0</td>\n",
              "      <td>8.0</td>\n",
              "      <td>0.0</td>\n",
              "      <td>1.0</td>\n",
              "      <td>1</td>\n",
              "      <td>2630.0</td>\n",
              "      <td>152.0</td>\n",
              "      <td>132.0</td>\n",
              "    </tr>\n",
              "    <tr>\n",
              "      <th>16</th>\n",
              "      <td>0</td>\n",
              "      <td>24.0</td>\n",
              "      <td>1.0</td>\n",
              "      <td>30.0</td>\n",
              "      <td>1.0</td>\n",
              "      <td>1.0</td>\n",
              "      <td>0</td>\n",
              "      <td>27285.0</td>\n",
              "      <td>152.0</td>\n",
              "      <td>215.0</td>\n",
              "    </tr>\n",
              "    <tr>\n",
              "      <th>17</th>\n",
              "      <td>0</td>\n",
              "      <td>22.0</td>\n",
              "      <td>1.0</td>\n",
              "      <td>15.0</td>\n",
              "      <td>0.0</td>\n",
              "      <td>1.0</td>\n",
              "      <td>1</td>\n",
              "      <td>38289.0</td>\n",
              "      <td>152.0</td>\n",
              "      <td>225.0</td>\n",
              "    </tr>\n",
              "    <tr>\n",
              "      <th>18</th>\n",
              "      <td>0</td>\n",
              "      <td>24.0</td>\n",
              "      <td>1.0</td>\n",
              "      <td>9.0</td>\n",
              "      <td>1.0</td>\n",
              "      <td>1.0</td>\n",
              "      <td>0</td>\n",
              "      <td>23157.0</td>\n",
              "      <td>152.0</td>\n",
              "      <td>43.0</td>\n",
              "    </tr>\n",
              "    <tr>\n",
              "      <th>19</th>\n",
              "      <td>1</td>\n",
              "      <td>52.0</td>\n",
              "      <td>1.0</td>\n",
              "      <td>28.0</td>\n",
              "      <td>0.0</td>\n",
              "      <td>2.0</td>\n",
              "      <td>1</td>\n",
              "      <td>2630.0</td>\n",
              "      <td>124.0</td>\n",
              "      <td>11.0</td>\n",
              "    </tr>\n",
              "  </tbody>\n",
              "</table>\n",
              "</div>"
            ],
            "text/plain": [
              "    Jenis_Kelamin  Umur  SIM  ...    Premi  Kanal_Penjualan  Lama_Berlangganan\n",
              "0               0  30.0  1.0  ...  28029.0            152.0               97.0\n",
              "1               1  48.0  1.0  ...  25800.0             29.0              158.0\n",
              "3               0  58.0  1.0  ...   2630.0            124.0               63.0\n",
              "5               1  21.0  1.0  ...  22735.0            152.0              171.0\n",
              "8               0  20.0  1.0  ...  30786.0            160.0               31.0\n",
              "10              1  25.0  1.0  ...  34212.0            152.0              282.0\n",
              "14              1  66.0  1.0  ...  38616.0            145.0              281.0\n",
              "15              1  31.0  1.0  ...   2630.0            152.0              132.0\n",
              "16              0  24.0  1.0  ...  27285.0            152.0              215.0\n",
              "17              0  22.0  1.0  ...  38289.0            152.0              225.0\n",
              "18              0  24.0  1.0  ...  23157.0            152.0               43.0\n",
              "19              1  52.0  1.0  ...   2630.0            124.0               11.0\n",
              "\n",
              "[12 rows x 10 columns]"
            ]
          },
          "metadata": {},
          "execution_count": 117
        }
      ]
    },
    {
      "cell_type": "code",
      "metadata": {
        "id": "FMHGrAyFU-eL"
      },
      "source": [
        "# melakukan export data \n",
        "from google.colab import files\n",
        "dfTrain.to_csv(\"data_train_jadi.csv\")\n",
        "files.download(\"data_train_jadi.csv\")"
      ],
      "execution_count": null,
      "outputs": []
    },
    {
      "cell_type": "code",
      "metadata": {
        "colab": {
          "base_uri": "https://localhost:8080/",
          "height": 416
        },
        "id": "vgkL8OvrVQu_",
        "outputId": "38831016-76c3-4c80-ec79-a8fe168e88ee"
      },
      "source": [
        "# melakukan scalling supaya data dalam jangkauan yang sama\n",
        "scaler = MinMaxScaler()\n",
        "dfTrain = pd.DataFrame(scaler.fit_transform(dfTrain), columns=dfTrain.columns)\n",
        "dfTrain"
      ],
      "execution_count": null,
      "outputs": [
        {
          "output_type": "execute_result",
          "data": {
            "text/html": [
              "<div>\n",
              "<style scoped>\n",
              "    .dataframe tbody tr th:only-of-type {\n",
              "        vertical-align: middle;\n",
              "    }\n",
              "\n",
              "    .dataframe tbody tr th {\n",
              "        vertical-align: top;\n",
              "    }\n",
              "\n",
              "    .dataframe thead th {\n",
              "        text-align: right;\n",
              "    }\n",
              "</style>\n",
              "<table border=\"1\" class=\"dataframe\">\n",
              "  <thead>\n",
              "    <tr style=\"text-align: right;\">\n",
              "      <th></th>\n",
              "      <th>Jenis_Kelamin</th>\n",
              "      <th>Umur</th>\n",
              "      <th>SIM</th>\n",
              "      <th>Kode_Daerah</th>\n",
              "      <th>Sudah_Asuransi</th>\n",
              "      <th>Umur_Kendaraan</th>\n",
              "      <th>Kendaraan_Rusak</th>\n",
              "      <th>Premi</th>\n",
              "      <th>Kanal_Penjualan</th>\n",
              "      <th>Lama_Berlangganan</th>\n",
              "    </tr>\n",
              "  </thead>\n",
              "  <tbody>\n",
              "    <tr>\n",
              "      <th>0</th>\n",
              "      <td>0.0</td>\n",
              "      <td>0.153846</td>\n",
              "      <td>1.0</td>\n",
              "      <td>0.634615</td>\n",
              "      <td>1.0</td>\n",
              "      <td>0.0</td>\n",
              "      <td>0.0</td>\n",
              "      <td>0.047251</td>\n",
              "      <td>0.932099</td>\n",
              "      <td>0.301038</td>\n",
              "    </tr>\n",
              "    <tr>\n",
              "      <th>1</th>\n",
              "      <td>1.0</td>\n",
              "      <td>0.430769</td>\n",
              "      <td>1.0</td>\n",
              "      <td>0.750000</td>\n",
              "      <td>0.0</td>\n",
              "      <td>1.0</td>\n",
              "      <td>1.0</td>\n",
              "      <td>0.043104</td>\n",
              "      <td>0.172840</td>\n",
              "      <td>0.512111</td>\n",
              "    </tr>\n",
              "    <tr>\n",
              "      <th>2</th>\n",
              "      <td>0.0</td>\n",
              "      <td>0.584615</td>\n",
              "      <td>1.0</td>\n",
              "      <td>0.923077</td>\n",
              "      <td>0.0</td>\n",
              "      <td>0.5</td>\n",
              "      <td>0.0</td>\n",
              "      <td>0.000000</td>\n",
              "      <td>0.759259</td>\n",
              "      <td>0.183391</td>\n",
              "    </tr>\n",
              "    <tr>\n",
              "      <th>3</th>\n",
              "      <td>1.0</td>\n",
              "      <td>0.015385</td>\n",
              "      <td>1.0</td>\n",
              "      <td>0.673077</td>\n",
              "      <td>1.0</td>\n",
              "      <td>0.0</td>\n",
              "      <td>0.0</td>\n",
              "      <td>0.037402</td>\n",
              "      <td>0.932099</td>\n",
              "      <td>0.557093</td>\n",
              "    </tr>\n",
              "    <tr>\n",
              "      <th>4</th>\n",
              "      <td>0.0</td>\n",
              "      <td>0.000000</td>\n",
              "      <td>1.0</td>\n",
              "      <td>0.153846</td>\n",
              "      <td>1.0</td>\n",
              "      <td>0.0</td>\n",
              "      <td>0.0</td>\n",
              "      <td>0.052380</td>\n",
              "      <td>0.981481</td>\n",
              "      <td>0.072664</td>\n",
              "    </tr>\n",
              "    <tr>\n",
              "      <th>...</th>\n",
              "      <td>...</td>\n",
              "      <td>...</td>\n",
              "      <td>...</td>\n",
              "      <td>...</td>\n",
              "      <td>...</td>\n",
              "      <td>...</td>\n",
              "      <td>...</td>\n",
              "      <td>...</td>\n",
              "      <td>...</td>\n",
              "      <td>...</td>\n",
              "    </tr>\n",
              "    <tr>\n",
              "      <th>171063</th>\n",
              "      <td>0.0</td>\n",
              "      <td>0.046154</td>\n",
              "      <td>1.0</td>\n",
              "      <td>0.076923</td>\n",
              "      <td>1.0</td>\n",
              "      <td>0.0</td>\n",
              "      <td>0.0</td>\n",
              "      <td>0.043454</td>\n",
              "      <td>0.932099</td>\n",
              "      <td>0.716263</td>\n",
              "    </tr>\n",
              "    <tr>\n",
              "      <th>171064</th>\n",
              "      <td>0.0</td>\n",
              "      <td>0.015385</td>\n",
              "      <td>1.0</td>\n",
              "      <td>0.884615</td>\n",
              "      <td>1.0</td>\n",
              "      <td>0.0</td>\n",
              "      <td>0.0</td>\n",
              "      <td>0.078239</td>\n",
              "      <td>0.932099</td>\n",
              "      <td>0.138408</td>\n",
              "    </tr>\n",
              "    <tr>\n",
              "      <th>171065</th>\n",
              "      <td>0.0</td>\n",
              "      <td>0.046154</td>\n",
              "      <td>1.0</td>\n",
              "      <td>0.961538</td>\n",
              "      <td>1.0</td>\n",
              "      <td>0.0</td>\n",
              "      <td>0.0</td>\n",
              "      <td>0.087661</td>\n",
              "      <td>0.932099</td>\n",
              "      <td>0.747405</td>\n",
              "    </tr>\n",
              "    <tr>\n",
              "      <th>171066</th>\n",
              "      <td>1.0</td>\n",
              "      <td>0.738462</td>\n",
              "      <td>1.0</td>\n",
              "      <td>0.134615</td>\n",
              "      <td>1.0</td>\n",
              "      <td>0.5</td>\n",
              "      <td>0.0</td>\n",
              "      <td>0.051853</td>\n",
              "      <td>0.759259</td>\n",
              "      <td>0.899654</td>\n",
              "    </tr>\n",
              "    <tr>\n",
              "      <th>171067</th>\n",
              "      <td>1.0</td>\n",
              "      <td>0.384615</td>\n",
              "      <td>1.0</td>\n",
              "      <td>0.538462</td>\n",
              "      <td>0.0</td>\n",
              "      <td>0.5</td>\n",
              "      <td>1.0</td>\n",
              "      <td>0.062973</td>\n",
              "      <td>0.154321</td>\n",
              "      <td>0.117647</td>\n",
              "    </tr>\n",
              "  </tbody>\n",
              "</table>\n",
              "<p>171068 rows × 10 columns</p>\n",
              "</div>"
            ],
            "text/plain": [
              "        Jenis_Kelamin      Umur  ...  Kanal_Penjualan  Lama_Berlangganan\n",
              "0                 0.0  0.153846  ...         0.932099           0.301038\n",
              "1                 1.0  0.430769  ...         0.172840           0.512111\n",
              "2                 0.0  0.584615  ...         0.759259           0.183391\n",
              "3                 1.0  0.015385  ...         0.932099           0.557093\n",
              "4                 0.0  0.000000  ...         0.981481           0.072664\n",
              "...               ...       ...  ...              ...                ...\n",
              "171063            0.0  0.046154  ...         0.932099           0.716263\n",
              "171064            0.0  0.015385  ...         0.932099           0.138408\n",
              "171065            0.0  0.046154  ...         0.932099           0.747405\n",
              "171066            1.0  0.738462  ...         0.759259           0.899654\n",
              "171067            1.0  0.384615  ...         0.154321           0.117647\n",
              "\n",
              "[171068 rows x 10 columns]"
            ]
          },
          "metadata": {},
          "execution_count": 119
        }
      ]
    },
    {
      "cell_type": "code",
      "metadata": {
        "colab": {
          "base_uri": "https://localhost:8080/",
          "height": 918
        },
        "id": "9beF2nKGVWMc",
        "outputId": "51e3457b-61e3-48cb-b2dd-f3037257addf"
      },
      "source": [
        "# mengecek korelasi dengan menggunakan heatmapp\n",
        "corr = dfTrain.corr()\n",
        "print(corr)\n",
        "plt.figure(figsize=(16, 10))\n",
        "sns.heatmap(dfTrain.corr(), annot = True)\n",
        "plt.title(\"korelasi heatmap\",y=1.1)\n",
        "plt.show()"
      ],
      "execution_count": null,
      "outputs": [
        {
          "output_type": "stream",
          "name": "stdout",
          "text": [
            "                   Jenis_Kelamin      Umur  ...  Kanal_Penjualan  Lama_Berlangganan\n",
            "Jenis_Kelamin           1.000000  0.145438  ...        -0.114058          -0.002175\n",
            "Umur                    0.145438  1.000000  ...        -0.576009          -0.001032\n",
            "SIM                    -0.018742 -0.078543  ...         0.041575           0.001739\n",
            "Kode_Daerah             0.002656  0.044256  ...        -0.043988          -0.003798\n",
            "Sudah_Asuransi         -0.082809 -0.256815  ...         0.221583           0.002902\n",
            "Umur_Kendaraan          0.160203  0.766604  ...        -0.549524          -0.002030\n",
            "Kendaraan_Rusak         0.092064  0.269755  ...        -0.226667          -0.002023\n",
            "Premi                   0.003023  0.063838  ...        -0.112297          -0.001260\n",
            "Kanal_Penjualan        -0.114058 -0.576009  ...         1.000000           0.000878\n",
            "Lama_Berlangganan      -0.002175 -0.001032  ...         0.000878           1.000000\n",
            "\n",
            "[10 rows x 10 columns]\n"
          ]
        },
        {
          "output_type": "display_data",
          "data": {
            "image/png": "[encoded data removed]",
            "text/plain": [
              "<Figure size 1152x720 with 2 Axes>"
            ]
          },
          "metadata": {
            "needs_background": "light"
          }
        }
      ]
    },
    {
      "cell_type": "code",
      "metadata": {
        "colab": {
          "base_uri": "https://localhost:8080/"
        },
        "id": "-swvOSEcVo3T",
        "outputId": "58f2ae81-8cd5-4074-84d1-33ef7cf7caf6"
      },
      "source": [
        "# setelah melihat dari korelasi heatmap disini dapat diambil kategori[umur, kanal_penjualan]\n",
        "m = dfTrain.iloc[:, [1,8]].values\n",
        "m"
      ],
      "execution_count": null,
      "outputs": [
        {
          "output_type": "execute_result",
          "data": {
            "text/plain": [
              "array([[0.15384615, 0.93209877],\n",
              "       [0.43076923, 0.17283951],\n",
              "       [0.58461538, 0.75925926],\n",
              "       ...,\n",
              "       [0.04615385, 0.93209877],\n",
              "       [0.73846154, 0.75925926],\n",
              "       [0.38461538, 0.15432099]])"
            ]
          },
          "metadata": {},
          "execution_count": 121
        }
      ]
    },
    {
      "cell_type": "code",
      "metadata": {
        "colab": {
          "base_uri": "https://localhost:8080/",
          "height": 282
        },
        "id": "9s5fkdCwaEdl",
        "outputId": "626877d9-6d2c-43dd-90c8-5f4a94691188"
      },
      "source": [
        "# penggambaran persebaran data menggunakan scatterplot\n",
        "plt.scatter(m[:,0],m[:,1], s=6)"
      ],
      "execution_count": null,
      "outputs": [
        {
          "output_type": "execute_result",
          "data": {
            "text/plain": [
              "<matplotlib.collections.PathCollection at 0x7f5e75883410>"
            ]
          },
          "metadata": {},
          "execution_count": 122
        },
        {
          "output_type": "display_data",
          "data": {
            "image/png": "[encoded data removed]",
            "text/plain": [
              "<Figure size 432x288 with 1 Axes>"
            ]
          },
          "metadata": {
            "needs_background": "light"
          }
        }
      ]
    },
    {
      "cell_type": "markdown",
      "metadata": {
        "id": "TYVyxVptqYWJ"
      },
      "source": [
        "# **Pemodelan**"
      ]
    },
    {
      "cell_type": "code",
      "metadata": {
        "id": "xsRFRgMBbpPE"
      },
      "source": [
        "# mengitung jarak menggunakan rumus euclidean distance\n",
        "def euclidean_distance(m1,m2):\n",
        "    return (sum((m1 - m2)**2)**0.5)"
      ],
      "execution_count": null,
      "outputs": []
    },
    {
      "cell_type": "code",
      "metadata": {
        "id": "ZJWQYPqXb1Xc"
      },
      "source": [
        "# mengelompokkan data ke dalam cluster\n",
        "def clustering(centroids, m):\n",
        "    clusters = []\n",
        "    for i in range(len(m)):\n",
        "        jarak = []\n",
        "        for centroid in centroids:\n",
        "            jarak.append(euclidean_distance(centroid, m[i]))\n",
        "        jarak_terpendek = [z for z, val in enumerate(jarak) if val==min(jarak)]\n",
        "        clusters.append(jarak_terpendek[0])\n",
        "    return np.array(clusters)"
      ],
      "execution_count": null,
      "outputs": []
    },
    {
      "cell_type": "code",
      "metadata": {
        "id": "7y2Bm1t4b8yN"
      },
      "source": [
        "# membuat centroid baru\n",
        "def bangun_centroid(clusters, m):\n",
        "    centroid_new = []\n",
        "    df_clusters_m = pd.concat([pd.DataFrame(m),pd.DataFrame(clusters, columns=['cluster'])], axis=1)\n",
        "    for c in set(df_clusters_m['cluster']):\n",
        "        df_current_cluster = df_clusters_m[df_clusters_m['cluster']==c][df_clusters_m.columns[:-1]]\n",
        "        ratarata_cluster = df_current_cluster.mean(axis=0)\n",
        "        centroid_new.append(ratarata_cluster)\n",
        "    return np.array(centroid_new)"
      ],
      "execution_count": null,
      "outputs": []
    },
    {
      "cell_type": "code",
      "metadata": {
        "colab": {
          "base_uri": "https://localhost:8080/",
          "height": 416
        },
        "id": "tIORQLc7hv3X",
        "outputId": "f5571205-b007-4162-a34a-5b7c428f66bb"
      },
      "source": [
        "df_clusters_m"
      ],
      "execution_count": null,
      "outputs": [
        {
          "output_type": "execute_result",
          "data": {
            "text/html": [
              "<div>\n",
              "<style scoped>\n",
              "    .dataframe tbody tr th:only-of-type {\n",
              "        vertical-align: middle;\n",
              "    }\n",
              "\n",
              "    .dataframe tbody tr th {\n",
              "        vertical-align: top;\n",
              "    }\n",
              "\n",
              "    .dataframe thead th {\n",
              "        text-align: right;\n",
              "    }\n",
              "</style>\n",
              "<table border=\"1\" class=\"dataframe\">\n",
              "  <thead>\n",
              "    <tr style=\"text-align: right;\">\n",
              "      <th></th>\n",
              "      <th>0</th>\n",
              "      <th>1</th>\n",
              "      <th>cluster</th>\n",
              "    </tr>\n",
              "  </thead>\n",
              "  <tbody>\n",
              "    <tr>\n",
              "      <th>0</th>\n",
              "      <td>0.153846</td>\n",
              "      <td>0.932099</td>\n",
              "      <td>3</td>\n",
              "    </tr>\n",
              "    <tr>\n",
              "      <th>1</th>\n",
              "      <td>0.430769</td>\n",
              "      <td>0.172840</td>\n",
              "      <td>1</td>\n",
              "    </tr>\n",
              "    <tr>\n",
              "      <th>2</th>\n",
              "      <td>0.584615</td>\n",
              "      <td>0.759259</td>\n",
              "      <td>2</td>\n",
              "    </tr>\n",
              "    <tr>\n",
              "      <th>3</th>\n",
              "      <td>0.015385</td>\n",
              "      <td>0.932099</td>\n",
              "      <td>3</td>\n",
              "    </tr>\n",
              "    <tr>\n",
              "      <th>4</th>\n",
              "      <td>0.000000</td>\n",
              "      <td>0.981481</td>\n",
              "      <td>3</td>\n",
              "    </tr>\n",
              "    <tr>\n",
              "      <th>...</th>\n",
              "      <td>...</td>\n",
              "      <td>...</td>\n",
              "      <td>...</td>\n",
              "    </tr>\n",
              "    <tr>\n",
              "      <th>171063</th>\n",
              "      <td>0.046154</td>\n",
              "      <td>0.932099</td>\n",
              "      <td>3</td>\n",
              "    </tr>\n",
              "    <tr>\n",
              "      <th>171064</th>\n",
              "      <td>0.015385</td>\n",
              "      <td>0.932099</td>\n",
              "      <td>3</td>\n",
              "    </tr>\n",
              "    <tr>\n",
              "      <th>171065</th>\n",
              "      <td>0.046154</td>\n",
              "      <td>0.932099</td>\n",
              "      <td>3</td>\n",
              "    </tr>\n",
              "    <tr>\n",
              "      <th>171066</th>\n",
              "      <td>0.738462</td>\n",
              "      <td>0.759259</td>\n",
              "      <td>2</td>\n",
              "    </tr>\n",
              "    <tr>\n",
              "      <th>171067</th>\n",
              "      <td>0.384615</td>\n",
              "      <td>0.154321</td>\n",
              "      <td>1</td>\n",
              "    </tr>\n",
              "  </tbody>\n",
              "</table>\n",
              "<p>171068 rows × 3 columns</p>\n",
              "</div>"
            ],
            "text/plain": [
              "               0         1  cluster\n",
              "0       0.153846  0.932099        3\n",
              "1       0.430769  0.172840        1\n",
              "2       0.584615  0.759259        2\n",
              "3       0.015385  0.932099        3\n",
              "4       0.000000  0.981481        3\n",
              "...          ...       ...      ...\n",
              "171063  0.046154  0.932099        3\n",
              "171064  0.015385  0.932099        3\n",
              "171065  0.046154  0.932099        3\n",
              "171066  0.738462  0.759259        2\n",
              "171067  0.384615  0.154321        1\n",
              "\n",
              "[171068 rows x 3 columns]"
            ]
          },
          "metadata": {},
          "execution_count": 137
        }
      ]
    },
    {
      "cell_type": "code",
      "metadata": {
        "id": "JmxhxfWkQ_d-"
      },
      "source": [
        "# mencari varian yang ada pada cluster untuk melihat baik tidaknya clustering\n",
        "def varians_cluster_train(clusters, m):\n",
        "    varians_train = []\n",
        "    df_clusters_m = pd.concat([pd.DataFrame(m),pd.DataFrame(clusters, columns=['cluster'])], axis=1)\n",
        "    for c in set(df_clusters_m['cluster']):\n",
        "        df_current_cluster = df_clusters_m[df_clusters_m['cluster'] ==c][df_clusters_m.columns[:-1]]\n",
        "        ratarata_cluster = df_current_cluster.mean(axis=0)\n",
        "        mean_repmat = np.matlib.repmat(ratarata_cluster, df_current_cluster.shape[0],1)\n",
        "        varians_train .append(np.sum(np.sum((df_current_cluster - mean_repmat)**2)))\n",
        "    return np.array(varians_train)"
      ],
      "execution_count": null,
      "outputs": []
    },
    {
      "cell_type": "code",
      "metadata": {
        "id": "KPr_yv_tf3Os"
      },
      "source": [
        "def elbow_method(WCSS, k):\n",
        "    plt.plot(range(1,k+1),WCSS)\n",
        "    plt.title('Elbow Method')\n",
        "    plt.xlabel(\"#Jumlah Cluster#\")\n",
        "    plt.ylabel(\"WCSS\")\n",
        "    plt.show()"
      ],
      "execution_count": null,
      "outputs": []
    },
    {
      "cell_type": "markdown",
      "metadata": {
        "id": "OpT8uYx3queC"
      },
      "source": [
        "### **Kmeans**"
      ]
    },
    {
      "cell_type": "code",
      "metadata": {
        "colab": {
          "base_uri": "https://localhost:8080/",
          "height": 664
        },
        "id": "oidBpim-gOSU",
        "outputId": "21947f14-9d4e-4b47-ad5e-57cdb3b6cbc7"
      },
      "source": [
        "# Kmeans dengan k = 4\n",
        "%%time\n",
        "k = 4\n",
        "WCSS = []\n",
        "centroid_pertama = np.random.choice(len(m), k, replace=False)\n",
        "centroids = m[centroid_pertama, :]\n",
        "\n",
        "for i in range (1,k+1):\n",
        "    variansClusterTrain = []\n",
        "    clusters = clustering(centroids, m)\n",
        "    print(\"Varians cluster pertama\", round(np.mean(varians_cluster_train(clusters, m))), \"pada K:\",i )\n",
        "    \n",
        "    for j in range(2):\n",
        "        centroids = bangun_centroid(clusters,m)\n",
        "        clusters = clustering(centroids, m)\n",
        "        cluster_var = np.mean(varians_cluster_train(clusters, m))\n",
        "        variansClusterTrain.append(cluster_var)\n",
        "        print(\"Varians saat percobaan clustering Ke-\",j+1, round(cluster_var))\n",
        "    WCSS.append(np.sum(variansClusterTrain))\n",
        "    print(\"WCSS Cluster dengan K =\",i,\":\",round(WCSS[i-1]),\"\\n\")\n",
        "\n",
        "elbow_method(WCSS,k)"
      ],
      "execution_count": null,
      "outputs": [
        {
          "output_type": "stream",
          "name": "stdout",
          "text": [
            "Varians cluster pertama 2639 pada K: 1\n",
            "Varians saat percobaan clustering Ke- 1 1810\n",
            "Varians saat percobaan clustering Ke- 2 1010\n",
            "WCSS Cluster dengan K = 1 : 2821 \n",
            "\n",
            "Varians cluster pertama 1010 pada K: 2\n",
            "Varians saat percobaan clustering Ke- 1 866\n",
            "Varians saat percobaan clustering Ke- 2 763\n",
            "WCSS Cluster dengan K = 2 : 1628 \n",
            "\n",
            "Varians cluster pertama 763 pada K: 3\n",
            "Varians saat percobaan clustering Ke- 1 696\n",
            "Varians saat percobaan clustering Ke- 2 685\n",
            "WCSS Cluster dengan K = 3 : 1382 \n",
            "\n",
            "Varians cluster pertama 685 pada K: 4\n",
            "Varians saat percobaan clustering Ke- 1 683\n",
            "Varians saat percobaan clustering Ke- 2 683\n",
            "WCSS Cluster dengan K = 4 : 1366 \n",
            "\n"
          ]
        },
        {
          "output_type": "display_data",
          "data": {
            "image/png": "[encoded data removed]",
            "text/plain": [
              "<Figure size 432x288 with 1 Axes>"
            ]
          },
          "metadata": {
            "needs_background": "light"
          }
        },
        {
          "output_type": "stream",
          "name": "stdout",
          "text": [
            "CPU times: user 51.7 s, sys: 122 ms, total: 51.8 s\n",
            "Wall time: 51.9 s\n"
          ]
        }
      ]
    },
    {
      "cell_type": "code",
      "metadata": {
        "colab": {
          "base_uri": "https://localhost:8080/",
          "height": 280
        },
        "id": "mJ5aGfPFhOo3",
        "outputId": "0df55b02-cee9-4081-d89e-1f86d004ae3c"
      },
      "source": [
        "# Visualisasi K-Means\n",
        "df_clusters_m = pd.concat([pd.DataFrame(m),pd.DataFrame(clusters, columns=['cluster'])], axis=1)\n",
        "label = df_clusters_m['cluster']\n",
        "u_labels = np.unique(label)\n",
        "for i in range(len(u_labels)):\n",
        "    plt.scatter(m[label == i , 0] , m[label == i , 1] , label = i+1, s = 100)\n",
        "plt.scatter(centroids[:,0], centroids[:,1], marker = 'D', s = 100, label = 'Centroids')\n",
        "plt.title('K-Means Clustering {} cluster'.format(k))\n",
        "plt.legend(bbox_to_anchor=(1.1, 1), title = 'Clusters')\n",
        "plt.show()"
      ],
      "execution_count": null,
      "outputs": [
        {
          "output_type": "display_data",
          "data": {
            "image/png": "[encoded data removed]",
            "text/plain": [
              "<Figure size 432x288 with 1 Axes>"
            ]
          },
          "metadata": {
            "needs_background": "light"
          }
        }
      ]
    },
    {
      "cell_type": "markdown",
      "metadata": {
        "id": "bcBKBoTcrXDQ"
      },
      "source": [
        "# **Evaluasi**"
      ]
    },
    {
      "cell_type": "code",
      "metadata": {
        "colab": {
          "base_uri": "https://localhost:8080/"
        },
        "id": "fy1C3XO_wZti",
        "outputId": "df72f864-ae30-48ee-b229-5b0f11a1e791"
      },
      "source": [
        "%%time\n",
        "from sklearn.metrics import silhouette_score\n",
        "\n",
        "hasil_silhouette = []\n",
        "\n",
        "for n_cluster in range(k):\n",
        "    koef_silhouette = silhouette_score(df_clusters_m, df_clusters_m['cluster'], metric = 'euclidean')\n",
        "    hasil_silhouette.append(koef_silhouette)\n",
        "    print('Nilai Silhoutte Method dalam, n_clusters = {} adalah {}'.format(n_cluster+1, koef_silhouette))"
      ],
      "execution_count": null,
      "outputs": [
        {
          "output_type": "stream",
          "name": "stdout",
          "text": [
            "Nilai Silhoutte Method dalam, n_clusters = 1 adalah 0.8732079746633055\n",
            "Nilai Silhoutte Method dalam, n_clusters = 2 adalah 0.8732079746633055\n",
            "Nilai Silhoutte Method dalam, n_clusters = 3 adalah 0.8732079746633055\n",
            "Nilai Silhoutte Method dalam, n_clusters = 4 adalah 0.8732079746633055\n",
            "CPU times: user 38min 17s, sys: 1min 43s, total: 40min\n",
            "Wall time: 34min\n"
          ]
        }
      ]
    },
    {
      "cell_type": "markdown",
      "metadata": {
        "id": "aPyaWQf1z2Vq"
      },
      "source": [
        "Ini merupakan hasil evaluasi eksperimen menggunakan metode silhouette dan memperlihatkan untuk dapat menyelesaikan 4 cluster dibutuhkan waktu total 40 menit dengan metode scalling minmax"
      ]
    },
    {
      "cell_type": "markdown",
      "metadata": {
        "id": "bkHZZJuJ0h-z"
      },
      "source": [
        "# **Eksperimen**"
      ]
    },
    {
      "cell_type": "code",
      "metadata": {
        "id": "1KHN2Yw1lhjR"
      },
      "source": [
        "# baca data eksperimen\n",
        "dfTrain_exp = pd.read_csv('https://raw.githubusercontent.com/NabilAzzumar/Clustering_ML1/main/kendaraan_train.csv')"
      ],
      "execution_count": null,
      "outputs": []
    },
    {
      "cell_type": "code",
      "metadata": {
        "colab": {
          "base_uri": "https://localhost:8080/",
          "height": 202
        },
        "id": "a7zcA3_pl4Lt",
        "outputId": "36ff11ab-7562-4574-a746-ce350624d8c8"
      },
      "source": [
        "# melihat 5 data awal pada data train eksperimen\n",
        "dfTrain_exp.head()"
      ],
      "execution_count": null,
      "outputs": [
        {
          "output_type": "execute_result",
          "data": {
            "text/html": [
              "<div>\n",
              "<style scoped>\n",
              "    .dataframe tbody tr th:only-of-type {\n",
              "        vertical-align: middle;\n",
              "    }\n",
              "\n",
              "    .dataframe tbody tr th {\n",
              "        vertical-align: top;\n",
              "    }\n",
              "\n",
              "    .dataframe thead th {\n",
              "        text-align: right;\n",
              "    }\n",
              "</style>\n",
              "<table border=\"1\" class=\"dataframe\">\n",
              "  <thead>\n",
              "    <tr style=\"text-align: right;\">\n",
              "      <th></th>\n",
              "      <th>id</th>\n",
              "      <th>Jenis_Kelamin</th>\n",
              "      <th>Umur</th>\n",
              "      <th>SIM</th>\n",
              "      <th>Kode_Daerah</th>\n",
              "      <th>Sudah_Asuransi</th>\n",
              "      <th>Umur_Kendaraan</th>\n",
              "      <th>Kendaraan_Rusak</th>\n",
              "      <th>Premi</th>\n",
              "      <th>Kanal_Penjualan</th>\n",
              "      <th>Lama_Berlangganan</th>\n",
              "      <th>Tertarik</th>\n",
              "    </tr>\n",
              "  </thead>\n",
              "  <tbody>\n",
              "    <tr>\n",
              "      <th>0</th>\n",
              "      <td>1</td>\n",
              "      <td>Wanita</td>\n",
              "      <td>30.0</td>\n",
              "      <td>1.0</td>\n",
              "      <td>33.0</td>\n",
              "      <td>1.0</td>\n",
              "      <td>&lt; 1 Tahun</td>\n",
              "      <td>Tidak</td>\n",
              "      <td>28029.0</td>\n",
              "      <td>152.0</td>\n",
              "      <td>97.0</td>\n",
              "      <td>0</td>\n",
              "    </tr>\n",
              "    <tr>\n",
              "      <th>1</th>\n",
              "      <td>2</td>\n",
              "      <td>Pria</td>\n",
              "      <td>48.0</td>\n",
              "      <td>1.0</td>\n",
              "      <td>39.0</td>\n",
              "      <td>0.0</td>\n",
              "      <td>&gt; 2 Tahun</td>\n",
              "      <td>Pernah</td>\n",
              "      <td>25800.0</td>\n",
              "      <td>29.0</td>\n",
              "      <td>158.0</td>\n",
              "      <td>0</td>\n",
              "    </tr>\n",
              "    <tr>\n",
              "      <th>2</th>\n",
              "      <td>3</td>\n",
              "      <td>NaN</td>\n",
              "      <td>21.0</td>\n",
              "      <td>1.0</td>\n",
              "      <td>46.0</td>\n",
              "      <td>1.0</td>\n",
              "      <td>&lt; 1 Tahun</td>\n",
              "      <td>Tidak</td>\n",
              "      <td>32733.0</td>\n",
              "      <td>160.0</td>\n",
              "      <td>119.0</td>\n",
              "      <td>0</td>\n",
              "    </tr>\n",
              "    <tr>\n",
              "      <th>3</th>\n",
              "      <td>4</td>\n",
              "      <td>Wanita</td>\n",
              "      <td>58.0</td>\n",
              "      <td>1.0</td>\n",
              "      <td>48.0</td>\n",
              "      <td>0.0</td>\n",
              "      <td>1-2 Tahun</td>\n",
              "      <td>Tidak</td>\n",
              "      <td>2630.0</td>\n",
              "      <td>124.0</td>\n",
              "      <td>63.0</td>\n",
              "      <td>0</td>\n",
              "    </tr>\n",
              "    <tr>\n",
              "      <th>4</th>\n",
              "      <td>5</td>\n",
              "      <td>Pria</td>\n",
              "      <td>50.0</td>\n",
              "      <td>1.0</td>\n",
              "      <td>35.0</td>\n",
              "      <td>0.0</td>\n",
              "      <td>&gt; 2 Tahun</td>\n",
              "      <td>NaN</td>\n",
              "      <td>34857.0</td>\n",
              "      <td>88.0</td>\n",
              "      <td>194.0</td>\n",
              "      <td>0</td>\n",
              "    </tr>\n",
              "  </tbody>\n",
              "</table>\n",
              "</div>"
            ],
            "text/plain": [
              "   id Jenis_Kelamin  Umur  ...  Kanal_Penjualan  Lama_Berlangganan  Tertarik\n",
              "0   1        Wanita  30.0  ...            152.0               97.0         0\n",
              "1   2          Pria  48.0  ...             29.0              158.0         0\n",
              "2   3           NaN  21.0  ...            160.0              119.0         0\n",
              "3   4        Wanita  58.0  ...            124.0               63.0         0\n",
              "4   5          Pria  50.0  ...             88.0              194.0         0\n",
              "\n",
              "[5 rows x 12 columns]"
            ]
          },
          "metadata": {},
          "execution_count": 158
        }
      ]
    },
    {
      "cell_type": "code",
      "metadata": {
        "colab": {
          "base_uri": "https://localhost:8080/"
        },
        "id": "BLleyv8MmOZA",
        "outputId": "e8ae6d4e-cca6-4066-e847-df9b87c4e163"
      },
      "source": [
        "# melihat keseluruhan jumlah baris dan kolom train eksperimen\n",
        "dfTrain_exp.shape"
      ],
      "execution_count": null,
      "outputs": [
        {
          "output_type": "execute_result",
          "data": {
            "text/plain": [
              "(285831, 12)"
            ]
          },
          "metadata": {},
          "execution_count": 159
        }
      ]
    },
    {
      "cell_type": "code",
      "metadata": {
        "colab": {
          "base_uri": "https://localhost:8080/"
        },
        "id": "huSNSFSRmxoJ",
        "outputId": "9a8a7e1f-6e37-4c51-ad1a-ebc9ee44bd5e"
      },
      "source": [
        "# melihat info pada data train eksperimen\n",
        "dfTrain_exp.info()"
      ],
      "execution_count": null,
      "outputs": [
        {
          "output_type": "stream",
          "name": "stdout",
          "text": [
            "<class 'pandas.core.frame.DataFrame'>\n",
            "RangeIndex: 285831 entries, 0 to 285830\n",
            "Data columns (total 12 columns):\n",
            " #   Column             Non-Null Count   Dtype  \n",
            "---  ------             --------------   -----  \n",
            " 0   id                 285831 non-null  int64  \n",
            " 1   Jenis_Kelamin      271391 non-null  object \n",
            " 2   Umur               271617 non-null  float64\n",
            " 3   SIM                271427 non-null  float64\n",
            " 4   Kode_Daerah        271525 non-null  float64\n",
            " 5   Sudah_Asuransi     271602 non-null  float64\n",
            " 6   Umur_Kendaraan     271556 non-null  object \n",
            " 7   Kendaraan_Rusak    271643 non-null  object \n",
            " 8   Premi              271262 non-null  float64\n",
            " 9   Kanal_Penjualan    271532 non-null  float64\n",
            " 10  Lama_Berlangganan  271839 non-null  float64\n",
            " 11  Tertarik           285831 non-null  int64  \n",
            "dtypes: float64(7), int64(2), object(3)\n",
            "memory usage: 26.2+ MB\n"
          ]
        }
      ]
    },
    {
      "cell_type": "code",
      "metadata": {
        "colab": {
          "base_uri": "https://localhost:8080/",
          "height": 295
        },
        "id": "eBqKDlwPm4GB",
        "outputId": "17720dae-8908-407c-da9e-68ee447513cd"
      },
      "source": [
        "# melihat count, mean, std, dan lainnya pada data train eksperimen\n",
        "dfTrain_exp.describe()"
      ],
      "execution_count": null,
      "outputs": [
        {
          "output_type": "execute_result",
          "data": {
            "text/html": [
              "<div>\n",
              "<style scoped>\n",
              "    .dataframe tbody tr th:only-of-type {\n",
              "        vertical-align: middle;\n",
              "    }\n",
              "\n",
              "    .dataframe tbody tr th {\n",
              "        vertical-align: top;\n",
              "    }\n",
              "\n",
              "    .dataframe thead th {\n",
              "        text-align: right;\n",
              "    }\n",
              "</style>\n",
              "<table border=\"1\" class=\"dataframe\">\n",
              "  <thead>\n",
              "    <tr style=\"text-align: right;\">\n",
              "      <th></th>\n",
              "      <th>id</th>\n",
              "      <th>Umur</th>\n",
              "      <th>SIM</th>\n",
              "      <th>Kode_Daerah</th>\n",
              "      <th>Sudah_Asuransi</th>\n",
              "      <th>Premi</th>\n",
              "      <th>Kanal_Penjualan</th>\n",
              "      <th>Lama_Berlangganan</th>\n",
              "      <th>Tertarik</th>\n",
              "    </tr>\n",
              "  </thead>\n",
              "  <tbody>\n",
              "    <tr>\n",
              "      <th>count</th>\n",
              "      <td>285831.000000</td>\n",
              "      <td>271617.000000</td>\n",
              "      <td>271427.000000</td>\n",
              "      <td>271525.000000</td>\n",
              "      <td>271602.000000</td>\n",
              "      <td>271262.000000</td>\n",
              "      <td>271532.000000</td>\n",
              "      <td>271839.000000</td>\n",
              "      <td>285831.000000</td>\n",
              "    </tr>\n",
              "    <tr>\n",
              "      <th>mean</th>\n",
              "      <td>142916.000000</td>\n",
              "      <td>38.844336</td>\n",
              "      <td>0.997848</td>\n",
              "      <td>26.405410</td>\n",
              "      <td>0.458778</td>\n",
              "      <td>30536.683472</td>\n",
              "      <td>112.021567</td>\n",
              "      <td>154.286302</td>\n",
              "      <td>0.122471</td>\n",
              "    </tr>\n",
              "    <tr>\n",
              "      <th>std</th>\n",
              "      <td>82512.446734</td>\n",
              "      <td>15.522487</td>\n",
              "      <td>0.046335</td>\n",
              "      <td>13.252714</td>\n",
              "      <td>0.498299</td>\n",
              "      <td>17155.000770</td>\n",
              "      <td>54.202457</td>\n",
              "      <td>83.694910</td>\n",
              "      <td>0.327830</td>\n",
              "    </tr>\n",
              "    <tr>\n",
              "      <th>min</th>\n",
              "      <td>1.000000</td>\n",
              "      <td>20.000000</td>\n",
              "      <td>0.000000</td>\n",
              "      <td>0.000000</td>\n",
              "      <td>0.000000</td>\n",
              "      <td>2630.000000</td>\n",
              "      <td>1.000000</td>\n",
              "      <td>10.000000</td>\n",
              "      <td>0.000000</td>\n",
              "    </tr>\n",
              "    <tr>\n",
              "      <th>25%</th>\n",
              "      <td>71458.500000</td>\n",
              "      <td>25.000000</td>\n",
              "      <td>1.000000</td>\n",
              "      <td>15.000000</td>\n",
              "      <td>0.000000</td>\n",
              "      <td>24398.000000</td>\n",
              "      <td>29.000000</td>\n",
              "      <td>82.000000</td>\n",
              "      <td>0.000000</td>\n",
              "    </tr>\n",
              "    <tr>\n",
              "      <th>50%</th>\n",
              "      <td>142916.000000</td>\n",
              "      <td>36.000000</td>\n",
              "      <td>1.000000</td>\n",
              "      <td>28.000000</td>\n",
              "      <td>0.000000</td>\n",
              "      <td>31646.000000</td>\n",
              "      <td>132.000000</td>\n",
              "      <td>154.000000</td>\n",
              "      <td>0.000000</td>\n",
              "    </tr>\n",
              "    <tr>\n",
              "      <th>75%</th>\n",
              "      <td>214373.500000</td>\n",
              "      <td>49.000000</td>\n",
              "      <td>1.000000</td>\n",
              "      <td>35.000000</td>\n",
              "      <td>1.000000</td>\n",
              "      <td>39377.750000</td>\n",
              "      <td>152.000000</td>\n",
              "      <td>227.000000</td>\n",
              "      <td>0.000000</td>\n",
              "    </tr>\n",
              "    <tr>\n",
              "      <th>max</th>\n",
              "      <td>285831.000000</td>\n",
              "      <td>85.000000</td>\n",
              "      <td>1.000000</td>\n",
              "      <td>52.000000</td>\n",
              "      <td>1.000000</td>\n",
              "      <td>540165.000000</td>\n",
              "      <td>163.000000</td>\n",
              "      <td>299.000000</td>\n",
              "      <td>1.000000</td>\n",
              "    </tr>\n",
              "  </tbody>\n",
              "</table>\n",
              "</div>"
            ],
            "text/plain": [
              "                  id           Umur  ...  Lama_Berlangganan       Tertarik\n",
              "count  285831.000000  271617.000000  ...      271839.000000  285831.000000\n",
              "mean   142916.000000      38.844336  ...         154.286302       0.122471\n",
              "std     82512.446734      15.522487  ...          83.694910       0.327830\n",
              "min         1.000000      20.000000  ...          10.000000       0.000000\n",
              "25%     71458.500000      25.000000  ...          82.000000       0.000000\n",
              "50%    142916.000000      36.000000  ...         154.000000       0.000000\n",
              "75%    214373.500000      49.000000  ...         227.000000       0.000000\n",
              "max    285831.000000      85.000000  ...         299.000000       1.000000\n",
              "\n",
              "[8 rows x 9 columns]"
            ]
          },
          "metadata": {},
          "execution_count": 161
        }
      ]
    },
    {
      "cell_type": "code",
      "metadata": {
        "colab": {
          "base_uri": "https://localhost:8080/",
          "height": 326
        },
        "id": "lDI5ha7pnFSJ",
        "outputId": "ac9ccb0c-890c-467e-b868-279a88f170ca"
      },
      "source": [
        "# melihat korelasi antar data train eksperimen\n",
        "dfTrain_exp.corr()"
      ],
      "execution_count": null,
      "outputs": [
        {
          "output_type": "execute_result",
          "data": {
            "text/html": [
              "<div>\n",
              "<style scoped>\n",
              "    .dataframe tbody tr th:only-of-type {\n",
              "        vertical-align: middle;\n",
              "    }\n",
              "\n",
              "    .dataframe tbody tr th {\n",
              "        vertical-align: top;\n",
              "    }\n",
              "\n",
              "    .dataframe thead th {\n",
              "        text-align: right;\n",
              "    }\n",
              "</style>\n",
              "<table border=\"1\" class=\"dataframe\">\n",
              "  <thead>\n",
              "    <tr style=\"text-align: right;\">\n",
              "      <th></th>\n",
              "      <th>id</th>\n",
              "      <th>Umur</th>\n",
              "      <th>SIM</th>\n",
              "      <th>Kode_Daerah</th>\n",
              "      <th>Sudah_Asuransi</th>\n",
              "      <th>Premi</th>\n",
              "      <th>Kanal_Penjualan</th>\n",
              "      <th>Lama_Berlangganan</th>\n",
              "      <th>Tertarik</th>\n",
              "    </tr>\n",
              "  </thead>\n",
              "  <tbody>\n",
              "    <tr>\n",
              "      <th>id</th>\n",
              "      <td>1.000000</td>\n",
              "      <td>0.001729</td>\n",
              "      <td>-0.002658</td>\n",
              "      <td>0.002114</td>\n",
              "      <td>-0.003043</td>\n",
              "      <td>0.002292</td>\n",
              "      <td>-0.001500</td>\n",
              "      <td>0.000913</td>\n",
              "      <td>0.000972</td>\n",
              "    </tr>\n",
              "    <tr>\n",
              "      <th>Umur</th>\n",
              "      <td>0.001729</td>\n",
              "      <td>1.000000</td>\n",
              "      <td>-0.079467</td>\n",
              "      <td>0.043603</td>\n",
              "      <td>-0.255006</td>\n",
              "      <td>0.064634</td>\n",
              "      <td>-0.577722</td>\n",
              "      <td>0.000147</td>\n",
              "      <td>0.109888</td>\n",
              "    </tr>\n",
              "    <tr>\n",
              "      <th>SIM</th>\n",
              "      <td>-0.002658</td>\n",
              "      <td>-0.079467</td>\n",
              "      <td>1.000000</td>\n",
              "      <td>-0.003359</td>\n",
              "      <td>0.016073</td>\n",
              "      <td>-0.011315</td>\n",
              "      <td>0.043426</td>\n",
              "      <td>-0.001266</td>\n",
              "      <td>0.009588</td>\n",
              "    </tr>\n",
              "    <tr>\n",
              "      <th>Kode_Daerah</th>\n",
              "      <td>0.002114</td>\n",
              "      <td>0.043603</td>\n",
              "      <td>-0.003359</td>\n",
              "      <td>1.000000</td>\n",
              "      <td>-0.024533</td>\n",
              "      <td>-0.011887</td>\n",
              "      <td>-0.043216</td>\n",
              "      <td>-0.003639</td>\n",
              "      <td>0.010186</td>\n",
              "    </tr>\n",
              "    <tr>\n",
              "      <th>Sudah_Asuransi</th>\n",
              "      <td>-0.003043</td>\n",
              "      <td>-0.255006</td>\n",
              "      <td>0.016073</td>\n",
              "      <td>-0.024533</td>\n",
              "      <td>1.000000</td>\n",
              "      <td>0.005903</td>\n",
              "      <td>0.221767</td>\n",
              "      <td>0.002757</td>\n",
              "      <td>-0.340917</td>\n",
              "    </tr>\n",
              "    <tr>\n",
              "      <th>Premi</th>\n",
              "      <td>0.002292</td>\n",
              "      <td>0.064634</td>\n",
              "      <td>-0.011315</td>\n",
              "      <td>-0.011887</td>\n",
              "      <td>0.005903</td>\n",
              "      <td>1.000000</td>\n",
              "      <td>-0.112187</td>\n",
              "      <td>-0.000750</td>\n",
              "      <td>0.023770</td>\n",
              "    </tr>\n",
              "    <tr>\n",
              "      <th>Kanal_Penjualan</th>\n",
              "      <td>-0.001500</td>\n",
              "      <td>-0.577722</td>\n",
              "      <td>0.043426</td>\n",
              "      <td>-0.043216</td>\n",
              "      <td>0.221767</td>\n",
              "      <td>-0.112187</td>\n",
              "      <td>1.000000</td>\n",
              "      <td>0.000327</td>\n",
              "      <td>-0.140931</td>\n",
              "    </tr>\n",
              "    <tr>\n",
              "      <th>Lama_Berlangganan</th>\n",
              "      <td>0.000913</td>\n",
              "      <td>0.000147</td>\n",
              "      <td>-0.001266</td>\n",
              "      <td>-0.003639</td>\n",
              "      <td>0.002757</td>\n",
              "      <td>-0.000750</td>\n",
              "      <td>0.000327</td>\n",
              "      <td>1.000000</td>\n",
              "      <td>-0.002225</td>\n",
              "    </tr>\n",
              "    <tr>\n",
              "      <th>Tertarik</th>\n",
              "      <td>0.000972</td>\n",
              "      <td>0.109888</td>\n",
              "      <td>0.009588</td>\n",
              "      <td>0.010186</td>\n",
              "      <td>-0.340917</td>\n",
              "      <td>0.023770</td>\n",
              "      <td>-0.140931</td>\n",
              "      <td>-0.002225</td>\n",
              "      <td>1.000000</td>\n",
              "    </tr>\n",
              "  </tbody>\n",
              "</table>\n",
              "</div>"
            ],
            "text/plain": [
              "                         id      Umur  ...  Lama_Berlangganan  Tertarik\n",
              "id                 1.000000  0.001729  ...           0.000913  0.000972\n",
              "Umur               0.001729  1.000000  ...           0.000147  0.109888\n",
              "SIM               -0.002658 -0.079467  ...          -0.001266  0.009588\n",
              "Kode_Daerah        0.002114  0.043603  ...          -0.003639  0.010186\n",
              "Sudah_Asuransi    -0.003043 -0.255006  ...           0.002757 -0.340917\n",
              "Premi              0.002292  0.064634  ...          -0.000750  0.023770\n",
              "Kanal_Penjualan   -0.001500 -0.577722  ...           0.000327 -0.140931\n",
              "Lama_Berlangganan  0.000913  0.000147  ...           1.000000 -0.002225\n",
              "Tertarik           0.000972  0.109888  ...          -0.002225  1.000000\n",
              "\n",
              "[9 rows x 9 columns]"
            ]
          },
          "metadata": {},
          "execution_count": 162
        }
      ]
    },
    {
      "cell_type": "code",
      "metadata": {
        "colab": {
          "base_uri": "https://localhost:8080/"
        },
        "id": "qsY7GqqKntqy",
        "outputId": "7f1fc4a4-d595-4d53-bd95-91c0633de0b9"
      },
      "source": [
        "# melakukan drop pada data/value yang bernilai null pada train eksperimen\n",
        "dfTrain_exp.dropna(inplace = True, axis = 0)\n",
        "dfTrain_exp.isnull().sum()"
      ],
      "execution_count": null,
      "outputs": [
        {
          "output_type": "execute_result",
          "data": {
            "text/plain": [
              "id                   0\n",
              "Jenis_Kelamin        0\n",
              "Umur                 0\n",
              "SIM                  0\n",
              "Kode_Daerah          0\n",
              "Sudah_Asuransi       0\n",
              "Umur_Kendaraan       0\n",
              "Kendaraan_Rusak      0\n",
              "Premi                0\n",
              "Kanal_Penjualan      0\n",
              "Lama_Berlangganan    0\n",
              "Tertarik             0\n",
              "dtype: int64"
            ]
          },
          "metadata": {},
          "execution_count": 163
        }
      ]
    },
    {
      "cell_type": "code",
      "metadata": {
        "id": "Y9MhLw6IoBa5"
      },
      "source": [
        "# melakukan drop pada kategori \" id, Tertarik\" pada data train eksperimen\n",
        "dfTrain_exp.drop('id',axis=1,inplace=True)\n",
        "dfTrain_exp.drop('Tertarik',axis=1,inplace=True)"
      ],
      "execution_count": null,
      "outputs": []
    },
    {
      "cell_type": "code",
      "metadata": {
        "colab": {
          "base_uri": "https://localhost:8080/",
          "height": 418
        },
        "id": "49cKiQtyoSQy",
        "outputId": "1f5c9c6b-9fed-4950-9554-a00c3d6ebb40"
      },
      "source": [
        "# mengubah data kategori menjadi numerical pada data train eksperimen\n",
        "\n",
        "# mengubah format Jenis_Kelamin dari [Pria, Wanita] menjadi [1 = Pria, 0 = Wanita]\n",
        "dfTrain_exp[\"Jenis_Kelamin\"] = dfTrain_exp[\"Jenis_Kelamin\"].replace([\"Pria\", \"Wanita\"], [1,0])\n",
        "\n",
        "# mengubah format Umur_Kendaraan dari [< 1 Tahun\", \"> 2 Tahun\", \"1-2 Tahun] menjadi [1, 2, 1.5]\n",
        "dfTrain_exp[\"Umur_Kendaraan\"] = dfTrain_exp[\"Umur_Kendaraan\"].replace([\"< 1 Tahun\", \"> 2 Tahun\", \"1-2 Tahun\"], [1,2,1.5])\n",
        "\n",
        "# mengubah format Kendaraan_Rusak dari [Pernah, Tidak] menjadi [1 = pernah, 0 = tidak]\n",
        "dfTrain_exp[\"Kendaraan_Rusak\"] = dfTrain_exp[\"Kendaraan_Rusak\"].replace([\"Pernah\", \"Tidak\"], [1,0])\n",
        "\n",
        "dfTrain_exp.head(12)"
      ],
      "execution_count": null,
      "outputs": [
        {
          "output_type": "execute_result",
          "data": {
            "text/html": [
              "<div>\n",
              "<style scoped>\n",
              "    .dataframe tbody tr th:only-of-type {\n",
              "        vertical-align: middle;\n",
              "    }\n",
              "\n",
              "    .dataframe tbody tr th {\n",
              "        vertical-align: top;\n",
              "    }\n",
              "\n",
              "    .dataframe thead th {\n",
              "        text-align: right;\n",
              "    }\n",
              "</style>\n",
              "<table border=\"1\" class=\"dataframe\">\n",
              "  <thead>\n",
              "    <tr style=\"text-align: right;\">\n",
              "      <th></th>\n",
              "      <th>Jenis_Kelamin</th>\n",
              "      <th>Umur</th>\n",
              "      <th>SIM</th>\n",
              "      <th>Kode_Daerah</th>\n",
              "      <th>Sudah_Asuransi</th>\n",
              "      <th>Umur_Kendaraan</th>\n",
              "      <th>Kendaraan_Rusak</th>\n",
              "      <th>Premi</th>\n",
              "      <th>Kanal_Penjualan</th>\n",
              "      <th>Lama_Berlangganan</th>\n",
              "    </tr>\n",
              "  </thead>\n",
              "  <tbody>\n",
              "    <tr>\n",
              "      <th>0</th>\n",
              "      <td>0</td>\n",
              "      <td>30.0</td>\n",
              "      <td>1.0</td>\n",
              "      <td>33.0</td>\n",
              "      <td>1.0</td>\n",
              "      <td>1.0</td>\n",
              "      <td>0</td>\n",
              "      <td>28029.0</td>\n",
              "      <td>152.0</td>\n",
              "      <td>97.0</td>\n",
              "    </tr>\n",
              "    <tr>\n",
              "      <th>1</th>\n",
              "      <td>1</td>\n",
              "      <td>48.0</td>\n",
              "      <td>1.0</td>\n",
              "      <td>39.0</td>\n",
              "      <td>0.0</td>\n",
              "      <td>2.0</td>\n",
              "      <td>1</td>\n",
              "      <td>25800.0</td>\n",
              "      <td>29.0</td>\n",
              "      <td>158.0</td>\n",
              "    </tr>\n",
              "    <tr>\n",
              "      <th>3</th>\n",
              "      <td>0</td>\n",
              "      <td>58.0</td>\n",
              "      <td>1.0</td>\n",
              "      <td>48.0</td>\n",
              "      <td>0.0</td>\n",
              "      <td>1.5</td>\n",
              "      <td>0</td>\n",
              "      <td>2630.0</td>\n",
              "      <td>124.0</td>\n",
              "      <td>63.0</td>\n",
              "    </tr>\n",
              "    <tr>\n",
              "      <th>5</th>\n",
              "      <td>1</td>\n",
              "      <td>21.0</td>\n",
              "      <td>1.0</td>\n",
              "      <td>35.0</td>\n",
              "      <td>1.0</td>\n",
              "      <td>1.0</td>\n",
              "      <td>0</td>\n",
              "      <td>22735.0</td>\n",
              "      <td>152.0</td>\n",
              "      <td>171.0</td>\n",
              "    </tr>\n",
              "    <tr>\n",
              "      <th>8</th>\n",
              "      <td>0</td>\n",
              "      <td>20.0</td>\n",
              "      <td>1.0</td>\n",
              "      <td>8.0</td>\n",
              "      <td>1.0</td>\n",
              "      <td>1.0</td>\n",
              "      <td>0</td>\n",
              "      <td>30786.0</td>\n",
              "      <td>160.0</td>\n",
              "      <td>31.0</td>\n",
              "    </tr>\n",
              "    <tr>\n",
              "      <th>10</th>\n",
              "      <td>1</td>\n",
              "      <td>25.0</td>\n",
              "      <td>1.0</td>\n",
              "      <td>14.0</td>\n",
              "      <td>1.0</td>\n",
              "      <td>1.0</td>\n",
              "      <td>0</td>\n",
              "      <td>34212.0</td>\n",
              "      <td>152.0</td>\n",
              "      <td>282.0</td>\n",
              "    </tr>\n",
              "    <tr>\n",
              "      <th>14</th>\n",
              "      <td>1</td>\n",
              "      <td>66.0</td>\n",
              "      <td>1.0</td>\n",
              "      <td>24.0</td>\n",
              "      <td>1.0</td>\n",
              "      <td>1.5</td>\n",
              "      <td>0</td>\n",
              "      <td>38616.0</td>\n",
              "      <td>145.0</td>\n",
              "      <td>281.0</td>\n",
              "    </tr>\n",
              "    <tr>\n",
              "      <th>15</th>\n",
              "      <td>1</td>\n",
              "      <td>31.0</td>\n",
              "      <td>1.0</td>\n",
              "      <td>8.0</td>\n",
              "      <td>0.0</td>\n",
              "      <td>1.0</td>\n",
              "      <td>1</td>\n",
              "      <td>2630.0</td>\n",
              "      <td>152.0</td>\n",
              "      <td>132.0</td>\n",
              "    </tr>\n",
              "    <tr>\n",
              "      <th>16</th>\n",
              "      <td>0</td>\n",
              "      <td>24.0</td>\n",
              "      <td>1.0</td>\n",
              "      <td>30.0</td>\n",
              "      <td>1.0</td>\n",
              "      <td>1.0</td>\n",
              "      <td>0</td>\n",
              "      <td>27285.0</td>\n",
              "      <td>152.0</td>\n",
              "      <td>215.0</td>\n",
              "    </tr>\n",
              "    <tr>\n",
              "      <th>17</th>\n",
              "      <td>0</td>\n",
              "      <td>22.0</td>\n",
              "      <td>1.0</td>\n",
              "      <td>15.0</td>\n",
              "      <td>0.0</td>\n",
              "      <td>1.0</td>\n",
              "      <td>1</td>\n",
              "      <td>38289.0</td>\n",
              "      <td>152.0</td>\n",
              "      <td>225.0</td>\n",
              "    </tr>\n",
              "    <tr>\n",
              "      <th>18</th>\n",
              "      <td>0</td>\n",
              "      <td>24.0</td>\n",
              "      <td>1.0</td>\n",
              "      <td>9.0</td>\n",
              "      <td>1.0</td>\n",
              "      <td>1.0</td>\n",
              "      <td>0</td>\n",
              "      <td>23157.0</td>\n",
              "      <td>152.0</td>\n",
              "      <td>43.0</td>\n",
              "    </tr>\n",
              "    <tr>\n",
              "      <th>19</th>\n",
              "      <td>1</td>\n",
              "      <td>52.0</td>\n",
              "      <td>1.0</td>\n",
              "      <td>28.0</td>\n",
              "      <td>0.0</td>\n",
              "      <td>2.0</td>\n",
              "      <td>1</td>\n",
              "      <td>2630.0</td>\n",
              "      <td>124.0</td>\n",
              "      <td>11.0</td>\n",
              "    </tr>\n",
              "  </tbody>\n",
              "</table>\n",
              "</div>"
            ],
            "text/plain": [
              "    Jenis_Kelamin  Umur  SIM  ...    Premi  Kanal_Penjualan  Lama_Berlangganan\n",
              "0               0  30.0  1.0  ...  28029.0            152.0               97.0\n",
              "1               1  48.0  1.0  ...  25800.0             29.0              158.0\n",
              "3               0  58.0  1.0  ...   2630.0            124.0               63.0\n",
              "5               1  21.0  1.0  ...  22735.0            152.0              171.0\n",
              "8               0  20.0  1.0  ...  30786.0            160.0               31.0\n",
              "10              1  25.0  1.0  ...  34212.0            152.0              282.0\n",
              "14              1  66.0  1.0  ...  38616.0            145.0              281.0\n",
              "15              1  31.0  1.0  ...   2630.0            152.0              132.0\n",
              "16              0  24.0  1.0  ...  27285.0            152.0              215.0\n",
              "17              0  22.0  1.0  ...  38289.0            152.0              225.0\n",
              "18              0  24.0  1.0  ...  23157.0            152.0               43.0\n",
              "19              1  52.0  1.0  ...   2630.0            124.0               11.0\n",
              "\n",
              "[12 rows x 10 columns]"
            ]
          },
          "metadata": {},
          "execution_count": 165
        }
      ]
    },
    {
      "cell_type": "code",
      "metadata": {
        "id": "Q6uZcIQ78GPF",
        "colab": {
          "base_uri": "https://localhost:8080/",
          "height": 416
        },
        "outputId": "7a4ae12a-8016-48c4-f23c-9bd7274d5138"
      },
      "source": [
        "# scalling data train eksperimen\n",
        "from sklearn.preprocessing import StandardScaler\n",
        "\n",
        "scaler = StandardScaler()\n",
        "dfTrain_exp = pd.DataFrame(scaler.fit_transform(dfTrain_exp), columns=dfTrain_exp.columns)\n",
        "dfTrain_exp"
      ],
      "execution_count": null,
      "outputs": [
        {
          "output_type": "execute_result",
          "data": {
            "text/html": [
              "<div>\n",
              "<style scoped>\n",
              "    .dataframe tbody tr th:only-of-type {\n",
              "        vertical-align: middle;\n",
              "    }\n",
              "\n",
              "    .dataframe tbody tr th {\n",
              "        vertical-align: top;\n",
              "    }\n",
              "\n",
              "    .dataframe thead th {\n",
              "        text-align: right;\n",
              "    }\n",
              "</style>\n",
              "<table border=\"1\" class=\"dataframe\">\n",
              "  <thead>\n",
              "    <tr style=\"text-align: right;\">\n",
              "      <th></th>\n",
              "      <th>Jenis_Kelamin</th>\n",
              "      <th>Umur</th>\n",
              "      <th>SIM</th>\n",
              "      <th>Kode_Daerah</th>\n",
              "      <th>Sudah_Asuransi</th>\n",
              "      <th>Umur_Kendaraan</th>\n",
              "      <th>Kendaraan_Rusak</th>\n",
              "      <th>Premi</th>\n",
              "      <th>Kanal_Penjualan</th>\n",
              "      <th>Lama_Berlangganan</th>\n",
              "    </tr>\n",
              "  </thead>\n",
              "  <tbody>\n",
              "    <tr>\n",
              "      <th>0</th>\n",
              "      <td>-1.084918</td>\n",
              "      <td>-0.567753</td>\n",
              "      <td>0.045537</td>\n",
              "      <td>0.496795</td>\n",
              "      <td>1.083923</td>\n",
              "      <td>-1.071127</td>\n",
              "      <td>-1.008925</td>\n",
              "      <td>-0.144979</td>\n",
              "      <td>0.734473</td>\n",
              "      <td>-0.682703</td>\n",
              "    </tr>\n",
              "    <tr>\n",
              "      <th>1</th>\n",
              "      <td>0.921729</td>\n",
              "      <td>0.591171</td>\n",
              "      <td>0.045537</td>\n",
              "      <td>0.949204</td>\n",
              "      <td>-0.922575</td>\n",
              "      <td>2.452328</td>\n",
              "      <td>0.991154</td>\n",
              "      <td>-0.275404</td>\n",
              "      <td>-1.538819</td>\n",
              "      <td>0.044680</td>\n",
              "    </tr>\n",
              "    <tr>\n",
              "      <th>2</th>\n",
              "      <td>-1.084918</td>\n",
              "      <td>1.235018</td>\n",
              "      <td>0.045537</td>\n",
              "      <td>1.627818</td>\n",
              "      <td>-0.922575</td>\n",
              "      <td>0.690601</td>\n",
              "      <td>-1.008925</td>\n",
              "      <td>-1.631139</td>\n",
              "      <td>0.216975</td>\n",
              "      <td>-1.088129</td>\n",
              "    </tr>\n",
              "    <tr>\n",
              "      <th>3</th>\n",
              "      <td>0.921729</td>\n",
              "      <td>-1.147215</td>\n",
              "      <td>0.045537</td>\n",
              "      <td>0.647598</td>\n",
              "      <td>1.083923</td>\n",
              "      <td>-1.071127</td>\n",
              "      <td>-1.008925</td>\n",
              "      <td>-0.454745</td>\n",
              "      <td>0.734473</td>\n",
              "      <td>0.199696</td>\n",
              "    </tr>\n",
              "    <tr>\n",
              "      <th>4</th>\n",
              "      <td>-1.084918</td>\n",
              "      <td>-1.211599</td>\n",
              "      <td>0.045537</td>\n",
              "      <td>-1.388242</td>\n",
              "      <td>1.083923</td>\n",
              "      <td>-1.071127</td>\n",
              "      <td>-1.008925</td>\n",
              "      <td>0.016340</td>\n",
              "      <td>0.882329</td>\n",
              "      <td>-1.469707</td>\n",
              "    </tr>\n",
              "    <tr>\n",
              "      <th>...</th>\n",
              "      <td>...</td>\n",
              "      <td>...</td>\n",
              "      <td>...</td>\n",
              "      <td>...</td>\n",
              "      <td>...</td>\n",
              "      <td>...</td>\n",
              "      <td>...</td>\n",
              "      <td>...</td>\n",
              "      <td>...</td>\n",
              "      <td>...</td>\n",
              "    </tr>\n",
              "    <tr>\n",
              "      <th>171063</th>\n",
              "      <td>-1.084918</td>\n",
              "      <td>-1.018445</td>\n",
              "      <td>0.045537</td>\n",
              "      <td>-1.689848</td>\n",
              "      <td>1.083923</td>\n",
              "      <td>-1.071127</td>\n",
              "      <td>-1.008925</td>\n",
              "      <td>-0.264403</td>\n",
              "      <td>0.734473</td>\n",
              "      <td>0.748214</td>\n",
              "    </tr>\n",
              "    <tr>\n",
              "      <th>171064</th>\n",
              "      <td>-1.084918</td>\n",
              "      <td>-1.147215</td>\n",
              "      <td>0.045537</td>\n",
              "      <td>1.477015</td>\n",
              "      <td>1.083923</td>\n",
              "      <td>-1.071127</td>\n",
              "      <td>-1.008925</td>\n",
              "      <td>0.829664</td>\n",
              "      <td>0.734473</td>\n",
              "      <td>-1.243145</td>\n",
              "    </tr>\n",
              "    <tr>\n",
              "      <th>171065</th>\n",
              "      <td>-1.084918</td>\n",
              "      <td>-1.018445</td>\n",
              "      <td>0.045537</td>\n",
              "      <td>1.778621</td>\n",
              "      <td>1.083923</td>\n",
              "      <td>-1.071127</td>\n",
              "      <td>-1.008925</td>\n",
              "      <td>1.126030</td>\n",
              "      <td>0.734473</td>\n",
              "      <td>0.855532</td>\n",
              "    </tr>\n",
              "    <tr>\n",
              "      <th>171066</th>\n",
              "      <td>0.921729</td>\n",
              "      <td>1.878864</td>\n",
              "      <td>0.045537</td>\n",
              "      <td>-1.463643</td>\n",
              "      <td>1.083923</td>\n",
              "      <td>0.690601</td>\n",
              "      <td>-1.008925</td>\n",
              "      <td>-0.000219</td>\n",
              "      <td>0.216975</td>\n",
              "      <td>1.380202</td>\n",
              "    </tr>\n",
              "    <tr>\n",
              "      <th>171067</th>\n",
              "      <td>0.921729</td>\n",
              "      <td>0.398017</td>\n",
              "      <td>0.045537</td>\n",
              "      <td>0.119788</td>\n",
              "      <td>-0.922575</td>\n",
              "      <td>0.690601</td>\n",
              "      <td>0.991154</td>\n",
              "      <td>0.349510</td>\n",
              "      <td>-1.594265</td>\n",
              "      <td>-1.314691</td>\n",
              "    </tr>\n",
              "  </tbody>\n",
              "</table>\n",
              "<p>171068 rows × 10 columns</p>\n",
              "</div>"
            ],
            "text/plain": [
              "        Jenis_Kelamin      Umur  ...  Kanal_Penjualan  Lama_Berlangganan\n",
              "0           -1.084918 -0.567753  ...         0.734473          -0.682703\n",
              "1            0.921729  0.591171  ...        -1.538819           0.044680\n",
              "2           -1.084918  1.235018  ...         0.216975          -1.088129\n",
              "3            0.921729 -1.147215  ...         0.734473           0.199696\n",
              "4           -1.084918 -1.211599  ...         0.882329          -1.469707\n",
              "...               ...       ...  ...              ...                ...\n",
              "171063      -1.084918 -1.018445  ...         0.734473           0.748214\n",
              "171064      -1.084918 -1.147215  ...         0.734473          -1.243145\n",
              "171065      -1.084918 -1.018445  ...         0.734473           0.855532\n",
              "171066       0.921729  1.878864  ...         0.216975           1.380202\n",
              "171067       0.921729  0.398017  ...        -1.594265          -1.314691\n",
              "\n",
              "[171068 rows x 10 columns]"
            ]
          },
          "metadata": {},
          "execution_count": 166
        }
      ]
    },
    {
      "cell_type": "code",
      "metadata": {
        "colab": {
          "base_uri": "https://localhost:8080/",
          "height": 918
        },
        "id": "ZVFvvHIPSLLb",
        "outputId": "8c852da3-fcff-445a-f7ef-4d1b42a82d37"
      },
      "source": [
        "# mengecek korelasi dengan menggunakan heatmapp pada data train eksperimen\n",
        "corr = dfTrain_exp.corr()\n",
        "print(corr)\n",
        "plt.figure(figsize=(16, 10))\n",
        "sns.heatmap(dfTrain_exp.corr(), annot = True)\n",
        "plt.title(\"korelasi heatmap\",y=1.1)\n",
        "plt.show()"
      ],
      "execution_count": null,
      "outputs": [
        {
          "output_type": "stream",
          "name": "stdout",
          "text": [
            "                   Jenis_Kelamin      Umur  ...  Kanal_Penjualan  Lama_Berlangganan\n",
            "Jenis_Kelamin           1.000000  0.145438  ...        -0.114058          -0.002175\n",
            "Umur                    0.145438  1.000000  ...        -0.576009          -0.001032\n",
            "SIM                    -0.018742 -0.078543  ...         0.041575           0.001739\n",
            "Kode_Daerah             0.002656  0.044256  ...        -0.043988          -0.003798\n",
            "Sudah_Asuransi         -0.082809 -0.256815  ...         0.221583           0.002902\n",
            "Umur_Kendaraan          0.160203  0.766604  ...        -0.549524          -0.002030\n",
            "Kendaraan_Rusak         0.092064  0.269755  ...        -0.226667          -0.002023\n",
            "Premi                   0.003023  0.063838  ...        -0.112297          -0.001260\n",
            "Kanal_Penjualan        -0.114058 -0.576009  ...         1.000000           0.000878\n",
            "Lama_Berlangganan      -0.002175 -0.001032  ...         0.000878           1.000000\n",
            "\n",
            "[10 rows x 10 columns]\n"
          ]
        },
        {
          "output_type": "display_data",
          "data": {
            "image/png": "[encoded data removed]",
            "text/plain": [
              "<Figure size 1152x720 with 2 Axes>"
            ]
          },
          "metadata": {
            "needs_background": "light"
          }
        }
      ]
    },
    {
      "cell_type": "code",
      "metadata": {
        "colab": {
          "base_uri": "https://localhost:8080/"
        },
        "id": "r3KXQIIASdZu",
        "outputId": "625ea1d5-2225-4c6b-9902-5ea5fb11bee5"
      },
      "source": [
        "from sklearn.decomposition import PCA\n",
        "pca = PCA(n_components=2)\n",
        "m = pca.fit_transform(dfTrain_exp)\n",
        "m"
      ],
      "execution_count": null,
      "outputs": [
        {
          "output_type": "execute_result",
          "data": {
            "text/plain": [
              "array([[-2.10360867,  0.32783828],\n",
              "       [ 3.07554604,  0.30497904],\n",
              "       [ 0.62141329,  0.14552425],\n",
              "       ...,\n",
              "       [-2.1947372 ,  0.4813711 ],\n",
              "       [ 0.33540829,  1.96398687],\n",
              "       [ 2.12461299, -0.0275551 ]])"
            ]
          },
          "metadata": {},
          "execution_count": 168
        }
      ]
    },
    {
      "cell_type": "code",
      "metadata": {
        "colab": {
          "base_uri": "https://localhost:8080/",
          "height": 282
        },
        "id": "jSHOqEmuSsdO",
        "outputId": "a82ce6eb-2b84-467c-f94d-355cc8e08a5c"
      },
      "source": [
        "plt.scatter(m[:,0],m[:,1], s=6)"
      ],
      "execution_count": null,
      "outputs": [
        {
          "output_type": "execute_result",
          "data": {
            "text/plain": [
              "<matplotlib.collections.PathCollection at 0x7f5e757e0c50>"
            ]
          },
          "metadata": {},
          "execution_count": 169
        },
        {
          "output_type": "display_data",
          "data": {
            "image/png": "[encoded data removed]",
            "text/plain": [
              "<Figure size 432x288 with 1 Axes>"
            ]
          },
          "metadata": {
            "needs_background": "light"
          }
        }
      ]
    },
    {
      "cell_type": "code",
      "metadata": {
        "id": "9t_m9TR5S5eG"
      },
      "source": [
        "# mengitung jarak menggunakan rumus euclidean distance\n",
        "def euclidean_distance(m1,m2):\n",
        "    return (sum((m1 - m2)**2)**0.5)"
      ],
      "execution_count": null,
      "outputs": []
    },
    {
      "cell_type": "code",
      "metadata": {
        "id": "FSY6uAyNS5WO"
      },
      "source": [
        "# mengelompokkan data ke dalam cluster\n",
        "def clustering(centroids, m):\n",
        "    clusters = []\n",
        "    for i in range(len(m)):\n",
        "        jarak = []\n",
        "        for centroid in centroids:\n",
        "            jarak.append(euclidean_distance(centroid, m[i]))\n",
        "        jarak_terpendek = [z for z, val in enumerate(jarak) if val==min(jarak)]\n",
        "        clusters.append(jarak_terpendek[0])\n",
        "    return np.array(clusters)"
      ],
      "execution_count": null,
      "outputs": []
    },
    {
      "cell_type": "code",
      "metadata": {
        "id": "QqEf8dGhS44-"
      },
      "source": [
        "# membuat centroid baru\n",
        "def bangun_centroid(clusters, m):\n",
        "    centroid_new = []\n",
        "    df_clusters_m = pd.concat([pd.DataFrame(m),pd.DataFrame(clusters, columns=['cluster'])], axis=1)\n",
        "    for c in set(df_clusters_m['cluster']):\n",
        "        df_current_cluster = df_clusters_m[df_clusters_m['cluster']==c][df_clusters_m.columns[:-1]]\n",
        "        ratarata_cluster = df_current_cluster.mean(axis=0)\n",
        "        centroid_new.append(ratarata_cluster)\n",
        "    return np.array(centroid_new)"
      ],
      "execution_count": null,
      "outputs": []
    },
    {
      "cell_type": "code",
      "metadata": {
        "id": "x1WfP625S4o-"
      },
      "source": [
        "# mencari varian yang ada pada cluster untuk melihat baik tidaknya clustering\n",
        "def varians_cluster_train(clusters, m):\n",
        "    varians_train = []\n",
        "    df_clusters_m = pd.concat([pd.DataFrame(m),pd.DataFrame(clusters, columns=['cluster'])], axis=1)\n",
        "    for c in set(df_clusters_m['cluster']):\n",
        "        df_current_cluster = df_clusters_m[df_clusters_m['cluster'] ==c][df_clusters_m.columns[:-1]]\n",
        "        ratarata_cluster = df_current_cluster.mean(axis=0)\n",
        "        mean_repmat = np.matlib.repmat(ratarata_cluster, df_current_cluster.shape[0],1)\n",
        "        varians_train .append(np.sum(np.sum((df_current_cluster - mean_repmat)**2)))\n",
        "    return np.array(varians_train)"
      ],
      "execution_count": null,
      "outputs": []
    },
    {
      "cell_type": "code",
      "metadata": {
        "id": "KZvI5YpyTRNV"
      },
      "source": [
        "def elbow_method(WCSS, k):\n",
        "    plt.plot(range(1,k+1),WCSS)\n",
        "    plt.title('Elbow Method')\n",
        "    plt.xlabel(\"#Jumlah Cluster#\")\n",
        "    plt.ylabel(\"WCSS\")\n",
        "    plt.show()"
      ],
      "execution_count": null,
      "outputs": []
    },
    {
      "cell_type": "code",
      "metadata": {
        "colab": {
          "base_uri": "https://localhost:8080/",
          "height": 748
        },
        "id": "gfanZQMo7B3S",
        "outputId": "097e34ae-2534-48d9-c174-2abc6607b493"
      },
      "source": [
        "# Kmeans dengan k = 5\n",
        "%%time\n",
        "k = 5\n",
        "WCSS = []\n",
        "centroid_pertama = np.random.choice(len(m), k, replace=False)\n",
        "centroids = m[centroid_pertama, :]\n",
        "\n",
        "for i in range (1,k+1):\n",
        "    variansClusterTrain = []\n",
        "    clusters = clustering(centroids, m)\n",
        "    print(\"Varians cluster pertama\", round(np.mean(varians_cluster_train(clusters, m))), \"pada K:\",i )\n",
        "    \n",
        "    for j in range(2):\n",
        "        centroids = bangun_centroid(clusters,m)\n",
        "        clusters = clustering(centroids, m)\n",
        "        cluster_var = np.mean(varians_cluster_train(clusters, m))\n",
        "        variansClusterTrain.append(cluster_var)\n",
        "        print(\"Varians saat percobaan clustering Ke-\",j+1, round(cluster_var))\n",
        "    WCSS.append(np.sum(variansClusterTrain))\n",
        "    print(\"WCSS Cluster dengan K =\",i,\":\",round(WCSS[i-1]),\"\\n\")\n",
        "\n",
        "elbow_method(WCSS,k)"
      ],
      "execution_count": null,
      "outputs": [
        {
          "output_type": "stream",
          "name": "stdout",
          "text": [
            "Varians cluster pertama 38021 pada K: 1\n",
            "Varians saat percobaan clustering Ke- 1 27827\n",
            "Varians saat percobaan clustering Ke- 2 20469\n",
            "WCSS Cluster dengan K = 1 : 48296 \n",
            "\n",
            "Varians cluster pertama 20469 pada K: 2\n",
            "Varians saat percobaan clustering Ke- 1 19707\n",
            "Varians saat percobaan clustering Ke- 2 19525\n",
            "WCSS Cluster dengan K = 2 : 39232 \n",
            "\n",
            "Varians cluster pertama 19525 pada K: 3\n",
            "Varians saat percobaan clustering Ke- 1 19440\n",
            "Varians saat percobaan clustering Ke- 2 19354\n",
            "WCSS Cluster dengan K = 3 : 38794 \n",
            "\n",
            "Varians cluster pertama 19354 pada K: 4\n",
            "Varians saat percobaan clustering Ke- 1 19291\n",
            "Varians saat percobaan clustering Ke- 2 19249\n",
            "WCSS Cluster dengan K = 4 : 38540 \n",
            "\n",
            "Varians cluster pertama 19249 pada K: 5\n",
            "Varians saat percobaan clustering Ke- 1 19210\n",
            "Varians saat percobaan clustering Ke- 2 19182\n",
            "WCSS Cluster dengan K = 5 : 38392 \n",
            "\n"
          ]
        },
        {
          "output_type": "display_data",
          "data": {
            "image/png": "[encoded data removed]",
            "text/plain": [
              "<Figure size 432x288 with 1 Axes>"
            ]
          },
          "metadata": {
            "needs_background": "light"
          }
        },
        {
          "output_type": "stream",
          "name": "stdout",
          "text": [
            "CPU times: user 1min 11s, sys: 199 ms, total: 1min 11s\n",
            "Wall time: 1min 11s\n"
          ]
        }
      ]
    },
    {
      "cell_type": "code",
      "metadata": {
        "colab": {
          "base_uri": "https://localhost:8080/",
          "height": 280
        },
        "id": "jb-kRru67LmL",
        "outputId": "1ae2e83d-df37-4b55-dbc2-b956388d74ca"
      },
      "source": [
        "# Visualisasi K-Means\n",
        "df_clusters_m = pd.concat([pd.DataFrame(m),pd.DataFrame(clusters, columns=['cluster'])], axis=1)\n",
        "label = df_clusters_m['cluster']\n",
        "u_labels = np.unique(label)\n",
        "for i in range(len(u_labels)):\n",
        "    plt.scatter(m[label == i , 0] , m[label == i , 1] , label = i+1, s = 100)\n",
        "plt.scatter(centroids[:,0], centroids[:,1], marker = 'D', s = 100, label = 'Centroids')\n",
        "plt.title('K-Means Clustering  {} cluster'.format(k))\n",
        "plt.legend(bbox_to_anchor=(1.1, 1), title = 'Clusters')\n",
        "plt.show()"
      ],
      "execution_count": null,
      "outputs": [
        {
          "output_type": "display_data",
          "data": {
            "image/png": "[encoded data removed]",
            "text/plain": [
              "<Figure size 432x288 with 1 Axes>"
            ]
          },
          "metadata": {
            "needs_background": "light"
          }
        }
      ]
    },
    {
      "cell_type": "code",
      "metadata": {
        "colab": {
          "base_uri": "https://localhost:8080/"
        },
        "id": "3dzIBPHN8iTT",
        "outputId": "d2f7fb6c-c629-47b0-ea91-a9722c160107"
      },
      "source": [
        "# Evaluasi eksperimen\n",
        "%%time\n",
        "from sklearn.metrics import silhouette_score\n",
        "\n",
        "hasil_silhouette = []\n",
        "\n",
        "for n_cluster in range(k):\n",
        "    koef_silhouette = silhouette_score(df_clusters_m, df_clusters_m['cluster'], metric = 'euclidean')\n",
        "    hasil_silhouette.append(koef_silhouette)\n",
        "    print('Nilai Silhoutte Method dalam, n_clusters = {} adalah {}'.format(n_cluster+1, koef_silhouette))"
      ],
      "execution_count": null,
      "outputs": [
        {
          "output_type": "stream",
          "name": "stdout",
          "text": [
            "Nilai Silhoutte Method dalam, n_clusters = 1 adalah 0.7155706069433537\n",
            "Nilai Silhoutte Method dalam, n_clusters = 2 adalah 0.7155706069433537\n",
            "Nilai Silhoutte Method dalam, n_clusters = 3 adalah 0.7155706069433537\n",
            "Nilai Silhoutte Method dalam, n_clusters = 4 adalah 0.7155706069433537\n",
            "Nilai Silhoutte Method dalam, n_clusters = 5 adalah 0.7155706069433537\n",
            "CPU times: user 46min 24s, sys: 2min 12s, total: 48min 37s\n",
            "Wall time: 41min 24s\n"
          ]
        }
      ]
    },
    {
      "cell_type": "markdown",
      "metadata": {
        "id": "oAxlnY2lt8S6"
      },
      "source": [
        "Ini merupakan hasil evaluasi eksperimen menggunakan metode silhouette dan memperlihatkan untuk dapat menyelesaikan 5 cluster dibutuhkan waktu total 48 menit 37 detik dengan metode calling standarisasi dan PCA"
      ]
    },
    {
      "cell_type": "markdown",
      "metadata": {
        "id": "eGcLcPSFWg8G"
      },
      "source": [
        "# **Kesimpulan**"
      ]
    },
    {
      "cell_type": "markdown",
      "metadata": {
        "id": "jJnVJjoeXEI-"
      },
      "source": [
        "dari dua pengujian yang telah dilakukan, dapat disimpulkan dan dilihat bahwa setiap proses clustering akan berbeda hasilnya tergantung pada saat mengeskplorasi dan metode scaling, serta pemilihan feature seperti apa yang dipilih, dan memperlihatkan perbedaan pada peta persebaran data dilihat dari visualisasinya dan juga dari segi waktu mengclusternyanya juga berbeda. Pada pengujian pertama menggunakan metode MinMaxScaler didapat persebaran data menyebarluas dan setelah di evaluasi dengan silhouette membutuhkan waktu 40 menit untuk mengcluster = 4, sedangkan pada pengujian eksperimen menggunakan metode standarisasi dan pca dalam pemilihan feature dan setelah dievaluasi menggunakan silhoutte membutuhkan waktu 48 menit 37 detikuntuk menyelesaikan cluster = 5. Dan metode untuk mencari K terbaik dapat menggunakan metode silhouette dan juga elbow method"
      ]
    }
  ]
}